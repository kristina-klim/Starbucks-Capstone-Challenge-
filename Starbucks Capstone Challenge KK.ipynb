{
 "cells": [
  {
   "cell_type": "markdown",
   "metadata": {},
   "source": [
    "# Starbucks Capstone Challenge\n",
    "\n",
    "### Introduction\n",
    "\n",
    "This data set contains simulated data that mimics customer behavior on the Starbucks rewards mobile app. Once every few days, Starbucks sends out an offer to users of the mobile app. An offer can be merely an advertisement for a drink or an actual offer such as a discount or BOGO (buy one get one free). Some users might not receive any offer during certain weeks. \n",
    "\n",
    "Not all users receive the same offer, and that is the challenge to solve with this data set.\n",
    "\n",
    "Your task is to combine transaction, demographic and offer data to determine which demographic groups respond best to which offer type. This data set is a simplified version of the real Starbucks app because the underlying simulator only has one product whereas Starbucks actually sells dozens of products.\n",
    "\n",
    "Every offer has a validity period before the offer expires. As an example, a BOGO offer might be valid for only 5 days. You'll see in the data set that informational offers have a validity period even though these ads are merely providing information about a product; for example, if an informational offer has 7 days of validity, you can assume the customer is feeling the influence of the offer for 7 days after receiving the advertisement.\n",
    "\n",
    "You'll be given transactional data showing user purchases made on the app including the timestamp of purchase and the amount of money spent on a purchase. This transactional data also has a record for each offer that a user receives as well as a record for when a user actually views the offer. There are also records for when a user completes an offer. \n",
    "\n",
    "Keep in mind as well that someone using the app might make a purchase through the app without having received an offer or seen an offer.\n",
    "\n",
    "### Example\n",
    "\n",
    "To give an example, a user could receive a discount offer buy 10 dollars get 2 off on Monday. The offer is valid for 10 days from receipt. If the customer accumulates at least 10 dollars in purchases during the validity period, the customer completes the offer.\n",
    "\n",
    "However, there are a few things to watch out for in this data set. Customers do not opt into the offers that they receive; in other words, a user can receive an offer, never actually view the offer, and still complete the offer. For example, a user might receive the \"buy 10 dollars get 2 dollars off offer\", but the user never opens the offer during the 10 day validity period. The customer spends 15 dollars during those ten days. There will be an offer completion record in the data set; however, the customer was not influenced by the offer because the customer never viewed the offer.\n",
    "\n",
    "### Cleaning\n",
    "\n",
    "This makes data cleaning especially important and tricky.\n",
    "\n",
    "You'll also want to take into account that some demographic groups will make purchases even if they don't receive an offer. From a business perspective, if a customer is going to make a 10 dollar purchase without an offer anyway, you wouldn't want to send a buy 10 dollars get 2 dollars off offer. You'll want to try to assess what a certain demographic group will buy when not receiving any offers.\n",
    "\n",
    "### Final Advice\n",
    "\n",
    "Because this is a capstone project, you are free to analyze the data any way you see fit. For example, you could build a machine learning model that predicts how much someone will spend based on demographics and offer type. Or you could build a model that predicts whether or not someone will respond to an offer. Or, you don't need to build a machine learning model at all. You could develop a set of heuristics that determine what offer you should send to each customer (i.e., 75 percent of women customers who were 35 years old responded to offer A vs 40 percent from the same demographic to offer B, so send offer A)."
   ]
  },
  {
   "cell_type": "markdown",
   "metadata": {},
   "source": [
    "# Data Sets\n",
    "\n",
    "The data is contained in three files:\n",
    "\n",
    "* portfolio.json - containing offer ids and meta data about each offer (duration, type, etc.)\n",
    "* profile.json - demographic data for each customer\n",
    "* transcript.json - records for transactions, offers received, offers viewed, and offers completed\n",
    "\n",
    "Here is the schema and explanation of each variable in the files:\n",
    "\n",
    "**portfolio.json**\n",
    "* id (string) - offer id\n",
    "* offer_type (string) - type of offer ie BOGO, discount, informational\n",
    "* difficulty (int) - minimum required spend to complete an offer\n",
    "* reward (int) - reward given for completing an offer\n",
    "* duration (int) - time for offer to be open, in days\n",
    "* channels (list of strings)\n",
    "\n",
    "**profile.json**\n",
    "* age (int) - age of the customer \n",
    "* became_member_on (int) - date when customer created an app account\n",
    "* gender (str) - gender of the customer (note some entries contain 'O' for other rather than M or F)\n",
    "* id (str) - customer id\n",
    "* income (float) - customer's income\n",
    "\n",
    "**transcript.json**\n",
    "* event (str) - record description (ie transaction, offer received, offer viewed, etc.)\n",
    "* person (str) - customer id\n",
    "* time (int) - time in hours since start of test. The data begins at time t=0\n",
    "* value - (dict of strings) - either an offer id or transaction amount depending on the record\n",
    "\n",
    "**Note:** If you are using the workspace, you will need to go to the terminal and run the command `conda update pandas` before reading in the files. This is because the version of pandas in the workspace cannot read in the transcript.json file correctly, but the newest version of pandas can. You can access the termnal from the orange icon in the top left of this notebook.  \n",
    "\n",
    "You can see how to access the terminal and how the install works using the two images below.  First you need to access the terminal:\n",
    "\n",
    "<img src=\"pic1.png\"/>\n",
    "\n",
    "Then you will want to run the above command:\n",
    "\n",
    "<img src=\"pic2.png\"/>\n",
    "\n",
    "Finally, when you enter back into the notebook (use the jupyter icon again), you should be able to run the below cell without any errors."
   ]
  },
  {
   "cell_type": "code",
   "execution_count": 1,
   "metadata": {},
   "outputs": [],
   "source": [
    "# Import libraries\n",
    "import numpy as np\n",
    "import pandas as pd\n",
    "import pandas as pd\n",
    "\n",
    "import matplotlib.pyplot as plt\n",
    "import seaborn as sns\n",
    "\n",
    "from itertools import chain\n",
    "from pylab import rcParams\n",
    "from matplotlib import dates\n",
    "from tqdm import tqdm\n",
    "\n",
    "# Import the models\n",
    "from sklearn.model_selection import train_test_split\n",
    "from sklearn.linear_model import LogisticRegression\n",
    "from sklearn.neighbors import KNeighborsClassifier\n",
    "from sklearn.tree import DecisionTreeClassifier\n",
    "from sklearn.ensemble import RandomForestClassifier\n",
    "\n",
    "# Import the metrics module \n",
    "from sklearn.metrics import classification_report\n",
    "from sklearn.metrics import confusion_matrix\n",
    "from sklearn.metrics import accuracy_score\n",
    "from sklearn.metrics import precision_score\n",
    "from sklearn.metrics import recall_score\n",
    "from sklearn.metrics import f1_score\n",
    "from sklearn.model_selection import cross_val_score\n",
    "from sklearn.metrics import roc_curve\n",
    "from sklearn.metrics import roc_auc_score\n",
    "\n",
    "from sklearn.preprocessing import StandardScaler\n",
    "from sklearn.pipeline import Pipeline\n",
    "from sklearn.model_selection import GridSearchCV\n"
   ]
  },
  {
   "cell_type": "code",
   "execution_count": 2,
   "metadata": {},
   "outputs": [],
   "source": [
    "# Setting the plotting theme\n",
    "sns.set()\n",
    "sns.set_theme(style=\"darkgrid\")\n",
    "\n",
    "# and setting the size of all plots\n",
    "plt.rcParams['figure.figsize'] = 10, 4\n",
    "\n",
    "# and setting the colors\n",
    "color = [\"#4b85a8\", \"#d98100\", \"#aba597\"]\n"
   ]
  },
  {
   "cell_type": "code",
   "execution_count": 3,
   "metadata": {},
   "outputs": [],
   "source": [
    "# Read in the json files\n",
    "portfolio = pd.read_json('portfolio.json', orient='records', lines=True)\n",
    "profile = pd.read_json('profile.json', orient='records', lines=True)\n",
    "transcript = pd.read_json('transcript.json', orient='records', lines=True)\n"
   ]
  },
  {
   "cell_type": "markdown",
   "metadata": {},
   "source": [
    "Functions for visualization plots."
   ]
  },
  {
   "cell_type": "code",
   "execution_count": 4,
   "metadata": {},
   "outputs": [],
   "source": [
    "# Function for pie plot \n",
    "def plot_pie(data,labels, title):\n",
    "    \"\"\"Get the data and pie plot with labels\n",
    "\n",
    "    Args:\n",
    "      data (pandas DataFrame): The DataFrame with a specific numeric column to plot.\n",
    "      labels (list): A sequence of strings providing the labels for each wedge\n",
    "      title(str): The title for the plot.\n",
    "\n",
    "\n",
    "    Returns:\n",
    "      pie plot \n",
    "    \"\"\"\n",
    "    ax = plt.figure(figsize = (4.5,4.5))\n",
    "\n",
    "    ax = plt.pie(data, labels = labels, \n",
    "                 autopct='%1.0f%%',startangle = 90, \n",
    "                 textprops={'fontsize': 13}  )\n",
    "    \n",
    "    plt.title(title, fontsize=18)\n",
    "    "
   ]
  },
  {
   "cell_type": "code",
   "execution_count": 5,
   "metadata": {},
   "outputs": [],
   "source": [
    "def countplot_h(data, title):\n",
    "    \"\"\"Get dataframe specific column and count the amount of each type, \n",
    "       and plot horizontal bars with labels.\n",
    "\n",
    "    Args:\n",
    "      data (pandas DataFrame): The DataFrame with specific columns to plot.\n",
    "      title (str): The title for the plot.\n",
    "\n",
    "\n",
    "    Returns:\n",
    "      plot horizontal bars\n",
    "    \"\"\"\n",
    "            \n",
    "     # Plotting data\n",
    "    ax = sns.countplot(y = data, order = data.value_counts().index);\n",
    "    \n",
    "    # Set labels and legend\n",
    "    ax.set_title(title, fontsize=18)\n",
    "    plt.rc('legend', fontsize=13)\n",
    "    \n",
    "    # Patches is everything inside of the chart\n",
    "    for rect in ax.patches:\n",
    "        # Find where everything is located\n",
    "        height = rect.get_height()\n",
    "        width = rect.get_width()\n",
    "        x = rect.get_x()\n",
    "        y = rect.get_y()\n",
    "\n",
    "        # The height of the bar is the data value and can be used as the label\n",
    "        label_text = f'{width:.0f}'\n",
    "\n",
    "        # ax.text(x, y, text)\n",
    "        label_x = x + width/2\n",
    "        label_y = y + height/2\n",
    "\n",
    "        # plot only when height is greater than specified value\n",
    "        if height > 0:\n",
    "            ax.text(\n",
    "                label_x,\n",
    "                label_y,\n",
    "                label_text,\n",
    "                ha='center',\n",
    "                va='center',\n",
    "                fontsize=14\n",
    "                )\n",
    "    \n",
    "    ax.set_title(title, size = 14)\n",
    "    plt.show()\n"
   ]
  },
  {
   "cell_type": "code",
   "execution_count": 6,
   "metadata": {},
   "outputs": [],
   "source": [
    "def plotting_histplot(data, title):\n",
    "    \"\"\"Get the data and plot histplot with median and mean\n",
    "\n",
    "    Args:\n",
    "      data (pandas DataFrame): The DataFrame with specific columns to plot.\n",
    "\n",
    "\n",
    "    Returns:\n",
    "      histplot\n",
    "    \"\"\"\n",
    "    # Initalize a figure and axes\n",
    "    fig, axes = plt.subplots(ncols=1, nrows=1)\n",
    "\n",
    "    # Plot the data\n",
    "    sns.histplot(data)\n",
    "        \n",
    "    axes.axvline(\n",
    "              x=data.median(),\n",
    "              color=\"#d98100\",\n",
    "              label=\"Median: \" + str(int(data.median())),\n",
    "              linestyle='--', linewidth=2\n",
    "              )\n",
    "\n",
    "    axes.axvline(\n",
    "              x=data.mean(), color=\"#d98100\",\n",
    "              label=\"Mean: \" + str(int(data.mean())),\n",
    "              linestyle='-',\n",
    "              linewidth=2\n",
    "              )\n",
    "    \n",
    "    axes.set_title(title, size = 14)\n",
    "\n",
    "    axes.legend()\n",
    "\n",
    "    plt.show()\n"
   ]
  },
  {
   "cell_type": "code",
   "execution_count": 7,
   "metadata": {},
   "outputs": [],
   "source": [
    "def countplot_v(data, title):\n",
    "    \"\"\"Get dataframe specific column and count the amount of each type, \n",
    "       and plot bars with labels.\n",
    "\n",
    "    Args:\n",
    "      data (pandas DataFrame): The DataFrame with specific columns to plot.\n",
    "      title (str): The title for the plot.\n",
    "\n",
    "\n",
    "    Returns:\n",
    "      plot bars\n",
    "    \"\"\"\n",
    "       \n",
    "     # Plotting data\n",
    "    ax = sns.countplot(x = data, order = data.value_counts().index);\n",
    "    \n",
    "    # Set labels and legend\n",
    "    ax.set_title(title, fontsize=18)\n",
    "    plt.rc('legend', fontsize=13)\n",
    "    \n",
    "    # Patches is everything inside of the chart\n",
    "    for rect in ax.patches:\n",
    "        # Find where everything is located\n",
    "        height = rect.get_height()\n",
    "        width = rect.get_width()\n",
    "        x = rect.get_x()\n",
    "        y = rect.get_y()\n",
    "\n",
    "        # The height of the bar is the data value and can be used as the label\n",
    "        label_text = f'{height:.0f}'\n",
    "\n",
    "        # ax.text(x, y, text)\n",
    "        label_x = x + width/2\n",
    "        label_y = y + height/2\n",
    "\n",
    "        # plot only when height is greater than specified value\n",
    "        if height > 0:\n",
    "            ax.text(\n",
    "                label_x,\n",
    "                label_y,\n",
    "                label_text,\n",
    "                ha='center',\n",
    "                va='center',\n",
    "                fontsize=14\n",
    "                )\n",
    "    \n",
    "    ax.set_title(title, size = 14)\n",
    "    plt.show()\n"
   ]
  },
  {
   "cell_type": "code",
   "execution_count": 8,
   "metadata": {},
   "outputs": [],
   "source": [
    "def plot_bar(data, xlabel, ylabel, title):\n",
    "    \"\"\"Get the data and plot vertical bars\n",
    "\n",
    "    Args:\n",
    "      data (pandas DataFrame): The DataFrame with specific columns to plot.\n",
    "      xlabel (str): The label for x axis.\n",
    "      ylabel (str): The label for y axis.\n",
    "      title (str): The title for the plot.\n",
    "      period (strftime) : The period of time\n",
    "\n",
    "\n",
    "    Returns:\n",
    "      plot bars\n",
    "    \"\"\"\n",
    "    # Plotting data\n",
    "    ax = data.plot.bar(color=color)\n",
    "\n",
    "    # Set labels and legend\n",
    "    ax.set_xlabel(xlabel, fontsize=15)\n",
    "    ax.set_ylabel(ylabel, fontsize=15)\n",
    "    ax.set_title(title, fontsize=18)\n",
    "\n",
    "    ax.legend(loc='best')\n",
    "    plt.rc('legend', fontsize=13)\n",
    "\n",
    "    # Patches is everything inside of the chart\n",
    "    for rect in ax.patches:\n",
    "        # Find where everything is located\n",
    "        height = rect.get_height()\n",
    "        width = rect.get_width()\n",
    "        x = rect.get_x()\n",
    "        y = rect.get_y()\n",
    "\n",
    "        # The height of the bar is the data value and can be used as the label\n",
    "        label_text = f'{height:.0f}'\n",
    "\n",
    "        # ax.text(x, y, text)\n",
    "        label_x = x + width/2\n",
    "        label_y = y + height/2\n",
    "\n",
    "        # plot only when height is greater than specified value\n",
    "        if height > 0:\n",
    "            ax.text(\n",
    "                label_x,\n",
    "                label_y,\n",
    "                label_text,\n",
    "                ha='center',\n",
    "                va='center',\n",
    "                fontsize=13\n",
    "                )\n"
   ]
  },
  {
   "cell_type": "code",
   "execution_count": 9,
   "metadata": {},
   "outputs": [],
   "source": [
    "def bar_stacked (data, title):\n",
    "    \"\"\"Get dataframe and plot vertically stacked bars  with labels\n",
    "    \n",
    "    Args:\n",
    "      data (pandas DataFrame): The DataFrame to plot.\n",
    "      title (str): The title for the plot.\n",
    "\n",
    "\n",
    "    Returns:\n",
    "      plot vertically stacked bars  with labels\n",
    "    \"\"\"\n",
    "    \n",
    "    # Plot stacked bars\n",
    "    ax = data.plot(kind='bar', stacked=True)\n",
    "\n",
    "    # Set labels and legend\n",
    "    ax.set_title(title, fontsize=15)\n",
    "    ax.legend(loc='best')\n",
    "    plt.rc('legend', fontsize=15)\n",
    "\n",
    "    # Patches is everything inside of the chart\n",
    "    for rect in ax.patches:\n",
    "\n",
    "        # Find where everything is located\n",
    "        height = rect.get_height()\n",
    "        width = rect.get_width()\n",
    "        x = rect.get_x()\n",
    "        y = rect.get_y()\n",
    "\n",
    "        # The height of the bar is the data value and can be used as the label\n",
    "        label_text = f'{height:.0f}'\n",
    "\n",
    "        # ax.text(x, y, text)\n",
    "        label_x = x + width / 2\n",
    "        label_y = y + height / 2\n",
    "\n",
    "        # plot only when height is greater than specified value\n",
    "        if height > 0:\n",
    "            ax.text(label_x, label_y,\n",
    "                    label_text, ha='center',\n",
    "                    va='center', fontsize=12)\n"
   ]
  },
  {
   "cell_type": "code",
   "execution_count": 10,
   "metadata": {},
   "outputs": [],
   "source": [
    "def plot_line(data, xlabel, ylabel, title):\n",
    "    \"\"\"Get the data and plot it in lines\n",
    "\n",
    "    Args:\n",
    "      data (pandas DataFrame): The data to plot.\n",
    "      xlabel (str): The label for x axis.\n",
    "      ylabel (str): The label for y axis.\n",
    "      title (str): The title for the plot.\n",
    "\n",
    "    Returns:\n",
    "      plot\n",
    "    \"\"\"\n",
    "\n",
    "    # Plotting data\n",
    "    ax = data.plot.line(color=color)\n",
    "\n",
    "    # Set axis labels and legend\n",
    "    ax.set_xlabel(xlabel, fontsize=15)\n",
    "    ax.set_ylabel(ylabel, fontsize=15)\n",
    "    ax.set_title(title, fontsize=18)\n",
    "    \n",
    "    ax.set_xlim(1,11)\n",
    "    ax.set_xticks(range(1,11))\n",
    "\n",
    "    ax.legend(loc='best')\n",
    "    plt.rc('legend', fontsize=13)\n",
    "\n",
    "    # Add labels to line plots\n",
    "    for i, col in data.iteritems():\n",
    "        for x, y in zip(data.index, col):\n",
    "            label = \"{:.0f}\".format(y)\n",
    "            plt.annotate(label, (x, y),\n",
    "                         textcoords=\"offset points\",\n",
    "                         xytext=(10, 10),\n",
    "                         ha='center')\n",
    "\n",
    "    plt.show()\n"
   ]
  },
  {
   "cell_type": "markdown",
   "metadata": {},
   "source": [
    "References: https://medium.com/swlh/quick-guide-to-labelling-data-for-common-seaborn-plots-736e10bf14a9"
   ]
  },
  {
   "cell_type": "markdown",
   "metadata": {},
   "source": [
    "## Exploratory Data Analysis"
   ]
  },
  {
   "cell_type": "markdown",
   "metadata": {},
   "source": [
    "####  Validate Data\n",
    "- read data \n",
    "- display a summary of the tables\n",
    "- display the column names of the tables\n",
    "- rename the columns"
   ]
  },
  {
   "cell_type": "markdown",
   "metadata": {},
   "source": [
    "#### Cleaning Data\n",
    "\n",
    "- dropping or filling missing values \n",
    "- handling outliers\n",
    "- changing the types of values"
   ]
  },
  {
   "cell_type": "markdown",
   "metadata": {},
   "source": [
    "##### 1.1 portfolio DataFrame"
   ]
  },
  {
   "cell_type": "markdown",
   "metadata": {},
   "source": [
    "**portfolio.json**\n",
    "* id (string) - offer id\n",
    "* offer_type (string) - type of offer ie BOGO, discount, informational\n",
    "* difficulty (int) - minimum required spend to complete an offer\n",
    "* reward (int) - reward given for completing an offer\n",
    "* duration (int) - time for offer to be open, in days\n",
    "* channels (list of strings)"
   ]
  },
  {
   "cell_type": "code",
   "execution_count": 11,
   "metadata": {},
   "outputs": [
    {
     "data": {
      "text/html": [
       "<div>\n",
       "<style scoped>\n",
       "    .dataframe tbody tr th:only-of-type {\n",
       "        vertical-align: middle;\n",
       "    }\n",
       "\n",
       "    .dataframe tbody tr th {\n",
       "        vertical-align: top;\n",
       "    }\n",
       "\n",
       "    .dataframe thead th {\n",
       "        text-align: right;\n",
       "    }\n",
       "</style>\n",
       "<table border=\"1\" class=\"dataframe\">\n",
       "  <thead>\n",
       "    <tr style=\"text-align: right;\">\n",
       "      <th></th>\n",
       "      <th>reward</th>\n",
       "      <th>channels</th>\n",
       "      <th>difficulty</th>\n",
       "      <th>duration</th>\n",
       "      <th>offer_type</th>\n",
       "      <th>id</th>\n",
       "    </tr>\n",
       "  </thead>\n",
       "  <tbody>\n",
       "    <tr>\n",
       "      <th>0</th>\n",
       "      <td>10</td>\n",
       "      <td>[email, mobile, social]</td>\n",
       "      <td>10</td>\n",
       "      <td>7</td>\n",
       "      <td>bogo</td>\n",
       "      <td>ae264e3637204a6fb9bb56bc8210ddfd</td>\n",
       "    </tr>\n",
       "    <tr>\n",
       "      <th>1</th>\n",
       "      <td>10</td>\n",
       "      <td>[web, email, mobile, social]</td>\n",
       "      <td>10</td>\n",
       "      <td>5</td>\n",
       "      <td>bogo</td>\n",
       "      <td>4d5c57ea9a6940dd891ad53e9dbe8da0</td>\n",
       "    </tr>\n",
       "    <tr>\n",
       "      <th>2</th>\n",
       "      <td>0</td>\n",
       "      <td>[web, email, mobile]</td>\n",
       "      <td>0</td>\n",
       "      <td>4</td>\n",
       "      <td>informational</td>\n",
       "      <td>3f207df678b143eea3cee63160fa8bed</td>\n",
       "    </tr>\n",
       "    <tr>\n",
       "      <th>3</th>\n",
       "      <td>5</td>\n",
       "      <td>[web, email, mobile]</td>\n",
       "      <td>5</td>\n",
       "      <td>7</td>\n",
       "      <td>bogo</td>\n",
       "      <td>9b98b8c7a33c4b65b9aebfe6a799e6d9</td>\n",
       "    </tr>\n",
       "    <tr>\n",
       "      <th>4</th>\n",
       "      <td>5</td>\n",
       "      <td>[web, email]</td>\n",
       "      <td>20</td>\n",
       "      <td>10</td>\n",
       "      <td>discount</td>\n",
       "      <td>0b1e1539f2cc45b7b9fa7c272da2e1d7</td>\n",
       "    </tr>\n",
       "  </tbody>\n",
       "</table>\n",
       "</div>"
      ],
      "text/plain": [
       "   reward                      channels  difficulty  duration     offer_type  \\\n",
       "0      10       [email, mobile, social]          10         7           bogo   \n",
       "1      10  [web, email, mobile, social]          10         5           bogo   \n",
       "2       0          [web, email, mobile]           0         4  informational   \n",
       "3       5          [web, email, mobile]           5         7           bogo   \n",
       "4       5                  [web, email]          20        10       discount   \n",
       "\n",
       "                                 id  \n",
       "0  ae264e3637204a6fb9bb56bc8210ddfd  \n",
       "1  4d5c57ea9a6940dd891ad53e9dbe8da0  \n",
       "2  3f207df678b143eea3cee63160fa8bed  \n",
       "3  9b98b8c7a33c4b65b9aebfe6a799e6d9  \n",
       "4  0b1e1539f2cc45b7b9fa7c272da2e1d7  "
      ]
     },
     "execution_count": 11,
     "metadata": {},
     "output_type": "execute_result"
    }
   ],
   "source": [
    "# Inspect data\n",
    "portfolio.head()\n"
   ]
  },
  {
   "cell_type": "code",
   "execution_count": 12,
   "metadata": {},
   "outputs": [
    {
     "data": {
      "text/plain": [
       "(10, 6)"
      ]
     },
     "execution_count": 12,
     "metadata": {},
     "output_type": "execute_result"
    }
   ],
   "source": [
    "# Examine the shape\n",
    "portfolio.shape\n"
   ]
  },
  {
   "cell_type": "code",
   "execution_count": 13,
   "metadata": {},
   "outputs": [
    {
     "name": "stdout",
     "output_type": "stream",
     "text": [
      "<class 'pandas.core.frame.DataFrame'>\n",
      "RangeIndex: 10 entries, 0 to 9\n",
      "Data columns (total 6 columns):\n",
      " #   Column      Non-Null Count  Dtype \n",
      "---  ------      --------------  ----- \n",
      " 0   reward      10 non-null     int64 \n",
      " 1   channels    10 non-null     object\n",
      " 2   difficulty  10 non-null     int64 \n",
      " 3   duration    10 non-null     int64 \n",
      " 4   offer_type  10 non-null     object\n",
      " 5   id          10 non-null     object\n",
      "dtypes: int64(3), object(3)\n",
      "memory usage: 608.0+ bytes\n"
     ]
    }
   ],
   "source": [
    "# Print data information\n",
    "portfolio.info()\n"
   ]
  },
  {
   "cell_type": "code",
   "execution_count": 14,
   "metadata": {},
   "outputs": [],
   "source": [
    "# Rename id column to offer_id\n",
    "portfolio.rename(columns = {'id': 'offer_id'}, inplace = True)\n"
   ]
  },
  {
   "cell_type": "code",
   "execution_count": 15,
   "metadata": {
    "scrolled": true
   },
   "outputs": [
    {
     "name": "stdout",
     "output_type": "stream",
     "text": [
      "Number of unique offers: 10\n"
     ]
    }
   ],
   "source": [
    "print (f\"Number of unique offers: {portfolio.offer_id.nunique()}\")\n"
   ]
  },
  {
   "cell_type": "code",
   "execution_count": 16,
   "metadata": {},
   "outputs": [
    {
     "data": {
      "image/png": "[encoded data removed]",
      "text/plain": [
       "<Figure size 720x288 with 1 Axes>"
      ]
     },
     "metadata": {},
     "output_type": "display_data"
    }
   ],
   "source": [
    "# Plotting offers type\n",
    "offer_type = portfolio[\"offer_type\"].value_counts().reset_index()\n",
    "countplot_h(data = portfolio[\"offer_type\"], title = \"The offers type\")\n"
   ]
  },
  {
   "cell_type": "code",
   "execution_count": 17,
   "metadata": {},
   "outputs": [
    {
     "name": "stdout",
     "output_type": "stream",
     "text": [
      "The profile DataFrame has 10 unique offer_id\n"
     ]
    }
   ],
   "source": [
    "offer_id_sum = len(portfolio.offer_id.unique())\n",
    "print (f\"The profile DataFrame has {offer_id_sum} unique offer_id\")\n"
   ]
  },
  {
   "cell_type": "markdown",
   "metadata": {},
   "source": [
    "\"Channels\" column made like a list, which means we can't use the standard functions because lists are not hashable. To solve this problem, we use a function which converts 2d to 1d"
   ]
  },
  {
   "cell_type": "code",
   "execution_count": 18,
   "metadata": {},
   "outputs": [],
   "source": [
    "def to_1D(series):\n",
    "    \"\"\"Get dataframe with specific column and reducing its dimensions from 2 to 1\n",
    "\n",
    "    Args:\n",
    "      data (series): The DataFrame with specific column.\n",
    "\n",
    "    Returns:\n",
    "      1D array\n",
    "    \"\"\"\n",
    "    return pd.Series([x for _list in series for x in _list])\n"
   ]
  },
  {
   "cell_type": "code",
   "execution_count": 19,
   "metadata": {},
   "outputs": [],
   "source": [
    "channels = to_1D(portfolio[\"channels\"])"
   ]
  },
  {
   "cell_type": "code",
   "execution_count": 20,
   "metadata": {
    "scrolled": false
   },
   "outputs": [
    {
     "data": {
      "image/png": "[encoded data removed]",
      "text/plain": [
       "<Figure size 324x324 with 1 Axes>"
      ]
     },
     "metadata": {},
     "output_type": "display_data"
    }
   ],
   "source": [
    "plot_pie(channels.value_counts(),channels.value_counts().index, \"The ratio of the channels\")\n"
   ]
  },
  {
   "cell_type": "code",
   "execution_count": 21,
   "metadata": {
    "scrolled": true
   },
   "outputs": [
    {
     "data": {
      "text/html": [
       "<div>\n",
       "<style scoped>\n",
       "    .dataframe tbody tr th:only-of-type {\n",
       "        vertical-align: middle;\n",
       "    }\n",
       "\n",
       "    .dataframe tbody tr th {\n",
       "        vertical-align: top;\n",
       "    }\n",
       "\n",
       "    .dataframe thead th {\n",
       "        text-align: right;\n",
       "    }\n",
       "</style>\n",
       "<table border=\"1\" class=\"dataframe\">\n",
       "  <thead>\n",
       "    <tr style=\"text-align: right;\">\n",
       "      <th></th>\n",
       "      <th>reward</th>\n",
       "      <th>channels</th>\n",
       "      <th>difficulty</th>\n",
       "      <th>duration</th>\n",
       "      <th>offer_type</th>\n",
       "      <th>offer_id</th>\n",
       "    </tr>\n",
       "  </thead>\n",
       "  <tbody>\n",
       "    <tr>\n",
       "      <th>0</th>\n",
       "      <td>10</td>\n",
       "      <td>[email, mobile, social]</td>\n",
       "      <td>10</td>\n",
       "      <td>7</td>\n",
       "      <td>bogo</td>\n",
       "      <td>ae264e3637204a6fb9bb56bc8210ddfd</td>\n",
       "    </tr>\n",
       "    <tr>\n",
       "      <th>1</th>\n",
       "      <td>10</td>\n",
       "      <td>[web, email, mobile, social]</td>\n",
       "      <td>10</td>\n",
       "      <td>5</td>\n",
       "      <td>bogo</td>\n",
       "      <td>4d5c57ea9a6940dd891ad53e9dbe8da0</td>\n",
       "    </tr>\n",
       "  </tbody>\n",
       "</table>\n",
       "</div>"
      ],
      "text/plain": [
       "   reward                      channels  difficulty  duration offer_type  \\\n",
       "0      10       [email, mobile, social]          10         7       bogo   \n",
       "1      10  [web, email, mobile, social]          10         5       bogo   \n",
       "\n",
       "                           offer_id  \n",
       "0  ae264e3637204a6fb9bb56bc8210ddfd  \n",
       "1  4d5c57ea9a6940dd891ad53e9dbe8da0  "
      ]
     },
     "execution_count": 21,
     "metadata": {},
     "output_type": "execute_result"
    }
   ],
   "source": [
    "portfolio.head(2)\n"
   ]
  },
  {
   "cell_type": "markdown",
   "metadata": {},
   "source": [
    "#### Portfolio Data Cleaning"
   ]
  },
  {
   "cell_type": "code",
   "execution_count": 22,
   "metadata": {},
   "outputs": [],
   "source": [
    "# Convert time in days into hours\n",
    "portfolio['duration'] = portfolio['duration']*24\n"
   ]
  },
  {
   "cell_type": "code",
   "execution_count": 23,
   "metadata": {},
   "outputs": [
    {
     "data": {
      "text/plain": [
       "{'ae264e3637204a6fb9bb56bc8210ddfd': 1,\n",
       " '4d5c57ea9a6940dd891ad53e9dbe8da0': 2,\n",
       " '3f207df678b143eea3cee63160fa8bed': 3,\n",
       " '9b98b8c7a33c4b65b9aebfe6a799e6d9': 4,\n",
       " '0b1e1539f2cc45b7b9fa7c272da2e1d7': 5,\n",
       " '2298d6c36e964ae4a3e7e9706d1fb8c2': 6,\n",
       " 'fafdcd668e3743c1bb461111dcafc2a4': 7,\n",
       " '5a8bc65990b245e5a138643cd4eb9837': 8,\n",
       " 'f19421c1d4aa40978ebb69ca19b0e20d': 9,\n",
       " '2906b810c7d4411798c6938adc9daaa5': 10}"
      ]
     },
     "execution_count": 23,
     "metadata": {},
     "output_type": "execute_result"
    }
   ],
   "source": [
    "# Converting to the dictionary\n",
    "offer_id_dict = portfolio.offer_id.to_dict()\n",
    "\n",
    "# Swap keys and values in the dictionary\n",
    "offer_id_dict = dict([(value, key+1) for key, value in offer_id_dict.items()])\n",
    "offer_id_dict\n"
   ]
  },
  {
   "cell_type": "code",
   "execution_count": 24,
   "metadata": {},
   "outputs": [],
   "source": [
    "# Replace offer_id value to numeric in range 1 to 10 \n",
    "portfolio['offer_id'] = portfolio['offer_id'].replace(offer_id_dict)\n"
   ]
  },
  {
   "cell_type": "code",
   "execution_count": 25,
   "metadata": {
    "scrolled": true
   },
   "outputs": [
    {
     "data": {
      "text/html": [
       "<div>\n",
       "<style scoped>\n",
       "    .dataframe tbody tr th:only-of-type {\n",
       "        vertical-align: middle;\n",
       "    }\n",
       "\n",
       "    .dataframe tbody tr th {\n",
       "        vertical-align: top;\n",
       "    }\n",
       "\n",
       "    .dataframe thead th {\n",
       "        text-align: right;\n",
       "    }\n",
       "</style>\n",
       "<table border=\"1\" class=\"dataframe\">\n",
       "  <thead>\n",
       "    <tr style=\"text-align: right;\">\n",
       "      <th></th>\n",
       "      <th>reward</th>\n",
       "      <th>channels</th>\n",
       "      <th>difficulty</th>\n",
       "      <th>duration</th>\n",
       "      <th>offer_type</th>\n",
       "      <th>offer_id</th>\n",
       "    </tr>\n",
       "  </thead>\n",
       "  <tbody>\n",
       "    <tr>\n",
       "      <th>0</th>\n",
       "      <td>10</td>\n",
       "      <td>[email, mobile, social]</td>\n",
       "      <td>10</td>\n",
       "      <td>168</td>\n",
       "      <td>bogo</td>\n",
       "      <td>1</td>\n",
       "    </tr>\n",
       "    <tr>\n",
       "      <th>1</th>\n",
       "      <td>10</td>\n",
       "      <td>[web, email, mobile, social]</td>\n",
       "      <td>10</td>\n",
       "      <td>120</td>\n",
       "      <td>bogo</td>\n",
       "      <td>2</td>\n",
       "    </tr>\n",
       "    <tr>\n",
       "      <th>2</th>\n",
       "      <td>0</td>\n",
       "      <td>[web, email, mobile]</td>\n",
       "      <td>0</td>\n",
       "      <td>96</td>\n",
       "      <td>informational</td>\n",
       "      <td>3</td>\n",
       "    </tr>\n",
       "    <tr>\n",
       "      <th>3</th>\n",
       "      <td>5</td>\n",
       "      <td>[web, email, mobile]</td>\n",
       "      <td>5</td>\n",
       "      <td>168</td>\n",
       "      <td>bogo</td>\n",
       "      <td>4</td>\n",
       "    </tr>\n",
       "    <tr>\n",
       "      <th>4</th>\n",
       "      <td>5</td>\n",
       "      <td>[web, email]</td>\n",
       "      <td>20</td>\n",
       "      <td>240</td>\n",
       "      <td>discount</td>\n",
       "      <td>5</td>\n",
       "    </tr>\n",
       "    <tr>\n",
       "      <th>5</th>\n",
       "      <td>3</td>\n",
       "      <td>[web, email, mobile, social]</td>\n",
       "      <td>7</td>\n",
       "      <td>168</td>\n",
       "      <td>discount</td>\n",
       "      <td>6</td>\n",
       "    </tr>\n",
       "    <tr>\n",
       "      <th>6</th>\n",
       "      <td>2</td>\n",
       "      <td>[web, email, mobile, social]</td>\n",
       "      <td>10</td>\n",
       "      <td>240</td>\n",
       "      <td>discount</td>\n",
       "      <td>7</td>\n",
       "    </tr>\n",
       "    <tr>\n",
       "      <th>7</th>\n",
       "      <td>0</td>\n",
       "      <td>[email, mobile, social]</td>\n",
       "      <td>0</td>\n",
       "      <td>72</td>\n",
       "      <td>informational</td>\n",
       "      <td>8</td>\n",
       "    </tr>\n",
       "    <tr>\n",
       "      <th>8</th>\n",
       "      <td>5</td>\n",
       "      <td>[web, email, mobile, social]</td>\n",
       "      <td>5</td>\n",
       "      <td>120</td>\n",
       "      <td>bogo</td>\n",
       "      <td>9</td>\n",
       "    </tr>\n",
       "    <tr>\n",
       "      <th>9</th>\n",
       "      <td>2</td>\n",
       "      <td>[web, email, mobile]</td>\n",
       "      <td>10</td>\n",
       "      <td>168</td>\n",
       "      <td>discount</td>\n",
       "      <td>10</td>\n",
       "    </tr>\n",
       "  </tbody>\n",
       "</table>\n",
       "</div>"
      ],
      "text/plain": [
       "   reward                      channels  difficulty  duration     offer_type  \\\n",
       "0      10       [email, mobile, social]          10       168           bogo   \n",
       "1      10  [web, email, mobile, social]          10       120           bogo   \n",
       "2       0          [web, email, mobile]           0        96  informational   \n",
       "3       5          [web, email, mobile]           5       168           bogo   \n",
       "4       5                  [web, email]          20       240       discount   \n",
       "5       3  [web, email, mobile, social]           7       168       discount   \n",
       "6       2  [web, email, mobile, social]          10       240       discount   \n",
       "7       0       [email, mobile, social]           0        72  informational   \n",
       "8       5  [web, email, mobile, social]           5       120           bogo   \n",
       "9       2          [web, email, mobile]          10       168       discount   \n",
       "\n",
       "   offer_id  \n",
       "0         1  \n",
       "1         2  \n",
       "2         3  \n",
       "3         4  \n",
       "4         5  \n",
       "5         6  \n",
       "6         7  \n",
       "7         8  \n",
       "8         9  \n",
       "9        10  "
      ]
     },
     "execution_count": 25,
     "metadata": {},
     "output_type": "execute_result"
    }
   ],
   "source": [
    "portfolio\n"
   ]
  },
  {
   "cell_type": "markdown",
   "metadata": {},
   "source": [
    "- portfolio df has 10 rows and 6 columns.\n",
    "- \"offer_type\" column has 3 unique values: BOGO (4), information (4), discount (2).\n",
    "- \"id\" column was renamed to \"offer_id\". \n",
    "- \"offer_id\" column has 10 unique values.\n",
    "- replaced values in the \"offer_id\" column from hashes into numerical.\n",
    "- \"channels\" column has four unique values: email, social, mobile, and web. For count, we have to convert from  2D into 1D.\n"
   ]
  },
  {
   "cell_type": "markdown",
   "metadata": {},
   "source": [
    "_______"
   ]
  },
  {
   "cell_type": "markdown",
   "metadata": {},
   "source": [
    "##### 1.2 Profile DataFrame"
   ]
  },
  {
   "cell_type": "markdown",
   "metadata": {},
   "source": [
    "**profile.json**\n",
    "* age (int) - age of the customer \n",
    "* became_member_on (int) - date when customer created an app account\n",
    "* gender (str) - gender of the customer (note some entries contain 'O' for other rather than M or F)\n",
    "* id (str) - customer id\n",
    "* income (float) - customer's income"
   ]
  },
  {
   "cell_type": "code",
   "execution_count": 26,
   "metadata": {
    "scrolled": false
   },
   "outputs": [
    {
     "data": {
      "text/html": [
       "<div>\n",
       "<style scoped>\n",
       "    .dataframe tbody tr th:only-of-type {\n",
       "        vertical-align: middle;\n",
       "    }\n",
       "\n",
       "    .dataframe tbody tr th {\n",
       "        vertical-align: top;\n",
       "    }\n",
       "\n",
       "    .dataframe thead th {\n",
       "        text-align: right;\n",
       "    }\n",
       "</style>\n",
       "<table border=\"1\" class=\"dataframe\">\n",
       "  <thead>\n",
       "    <tr style=\"text-align: right;\">\n",
       "      <th></th>\n",
       "      <th>gender</th>\n",
       "      <th>age</th>\n",
       "      <th>id</th>\n",
       "      <th>became_member_on</th>\n",
       "      <th>income</th>\n",
       "    </tr>\n",
       "  </thead>\n",
       "  <tbody>\n",
       "    <tr>\n",
       "      <th>0</th>\n",
       "      <td>None</td>\n",
       "      <td>118</td>\n",
       "      <td>68be06ca386d4c31939f3a4f0e3dd783</td>\n",
       "      <td>20170212</td>\n",
       "      <td>NaN</td>\n",
       "    </tr>\n",
       "    <tr>\n",
       "      <th>1</th>\n",
       "      <td>F</td>\n",
       "      <td>55</td>\n",
       "      <td>0610b486422d4921ae7d2bf64640c50b</td>\n",
       "      <td>20170715</td>\n",
       "      <td>112000.0</td>\n",
       "    </tr>\n",
       "    <tr>\n",
       "      <th>2</th>\n",
       "      <td>None</td>\n",
       "      <td>118</td>\n",
       "      <td>38fe809add3b4fcf9315a9694bb96ff5</td>\n",
       "      <td>20180712</td>\n",
       "      <td>NaN</td>\n",
       "    </tr>\n",
       "    <tr>\n",
       "      <th>3</th>\n",
       "      <td>F</td>\n",
       "      <td>75</td>\n",
       "      <td>78afa995795e4d85b5d9ceeca43f5fef</td>\n",
       "      <td>20170509</td>\n",
       "      <td>100000.0</td>\n",
       "    </tr>\n",
       "    <tr>\n",
       "      <th>4</th>\n",
       "      <td>None</td>\n",
       "      <td>118</td>\n",
       "      <td>a03223e636434f42ac4c3df47e8bac43</td>\n",
       "      <td>20170804</td>\n",
       "      <td>NaN</td>\n",
       "    </tr>\n",
       "  </tbody>\n",
       "</table>\n",
       "</div>"
      ],
      "text/plain": [
       "  gender  age                                id  became_member_on    income\n",
       "0   None  118  68be06ca386d4c31939f3a4f0e3dd783          20170212       NaN\n",
       "1      F   55  0610b486422d4921ae7d2bf64640c50b          20170715  112000.0\n",
       "2   None  118  38fe809add3b4fcf9315a9694bb96ff5          20180712       NaN\n",
       "3      F   75  78afa995795e4d85b5d9ceeca43f5fef          20170509  100000.0\n",
       "4   None  118  a03223e636434f42ac4c3df47e8bac43          20170804       NaN"
      ]
     },
     "execution_count": 26,
     "metadata": {},
     "output_type": "execute_result"
    }
   ],
   "source": [
    "# Inspect data\n",
    "profile.head()\n"
   ]
  },
  {
   "cell_type": "code",
   "execution_count": 27,
   "metadata": {},
   "outputs": [
    {
     "data": {
      "text/plain": [
       "(17000, 5)"
      ]
     },
     "execution_count": 27,
     "metadata": {},
     "output_type": "execute_result"
    }
   ],
   "source": [
    "# Examine the shape\n",
    "profile.shape\n"
   ]
  },
  {
   "cell_type": "code",
   "execution_count": 28,
   "metadata": {},
   "outputs": [
    {
     "name": "stdout",
     "output_type": "stream",
     "text": [
      "<class 'pandas.core.frame.DataFrame'>\n",
      "RangeIndex: 17000 entries, 0 to 16999\n",
      "Data columns (total 5 columns):\n",
      " #   Column            Non-Null Count  Dtype  \n",
      "---  ------            --------------  -----  \n",
      " 0   gender            14825 non-null  object \n",
      " 1   age               17000 non-null  int64  \n",
      " 2   id                17000 non-null  object \n",
      " 3   became_member_on  17000 non-null  int64  \n",
      " 4   income            14825 non-null  float64\n",
      "dtypes: float64(1), int64(2), object(2)\n",
      "memory usage: 664.2+ KB\n"
     ]
    }
   ],
   "source": [
    "# Print data information\n",
    "profile.info()\n"
   ]
  },
  {
   "cell_type": "code",
   "execution_count": 29,
   "metadata": {},
   "outputs": [],
   "source": [
    "# Rename id column customer_id\n",
    "profile.rename(columns = {'id': 'customer_id'}, inplace = True)\n"
   ]
  },
  {
   "cell_type": "markdown",
   "metadata": {},
   "source": [
    "#### Profile Data Cleaning"
   ]
  },
  {
   "cell_type": "code",
   "execution_count": 30,
   "metadata": {},
   "outputs": [
    {
     "data": {
      "text/plain": [
       "gender              2175\n",
       "age                    0\n",
       "customer_id            0\n",
       "became_member_on       0\n",
       "income              2175\n",
       "dtype: int64"
      ]
     },
     "execution_count": 30,
     "metadata": {},
     "output_type": "execute_result"
    }
   ],
   "source": [
    "# Inspect the missing values\n",
    "profile.isna().sum()\n"
   ]
  },
  {
   "cell_type": "code",
   "execution_count": 30,
   "metadata": {},
   "outputs": [
    {
     "data": {
      "image/png": "[encoded data removed]",
      "text/plain": [
       "<Figure size 720x288 with 1 Axes>"
      ]
     },
     "metadata": {},
     "output_type": "display_data"
    }
   ],
   "source": [
    "# Histogram of age\n",
    "plotting_histplot(profile[\"age\"], \"Customer's age\" )"
   ]
  },
  {
   "cell_type": "markdown",
   "metadata": {},
   "source": [
    "On the \"Customer's age\" histogram, we can see that the average age is 62, and the median is 58 years old. But we also see a significant spike in the 118 years old that is a high probability of outliers. When we reduce outliers, the average age might shift to the left. \n",
    "\n",
    "\n"
   ]
  },
  {
   "cell_type": "code",
   "execution_count": 31,
   "metadata": {},
   "outputs": [
    {
     "name": "stdout",
     "output_type": "stream",
     "text": [
      "Percentage of the missing values: 12 %\n"
     ]
    }
   ],
   "source": [
    "# Percentage of the missing values to the entire date\n",
    "missing_value = int((profile.gender.isnull().sum() / profile.shape[0]) * 100)\n",
    "print (f\"Percentage of the missing values: {missing_value} %\")\n"
   ]
  },
  {
   "cell_type": "markdown",
   "metadata": {},
   "source": [
    "As we can see, missing values in the \"gender\" and \"income\" columns match with the customers whose \"age\" column is more than 105 years old. How we discuss above, they are outliers.  To avoid overfittings, we drop that rows."
   ]
  },
  {
   "cell_type": "code",
   "execution_count": 32,
   "metadata": {},
   "outputs": [],
   "source": [
    "# Drop missing values\n",
    "profile = profile.dropna()\n"
   ]
  },
  {
   "cell_type": "code",
   "execution_count": 33,
   "metadata": {},
   "outputs": [
    {
     "name": "stdout",
     "output_type": "stream",
     "text": [
      "The shape of profile DataFrame after dropping rows with missing values: (14825, 5).\n"
     ]
    }
   ],
   "source": [
    "# Print shape of new  profile dataframe\n",
    "print(f\"The shape of profile DataFrame after dropping rows with missing values: {profile.shape}.\")"
   ]
  },
  {
   "cell_type": "code",
   "execution_count": 34,
   "metadata": {},
   "outputs": [],
   "source": [
    "# Convert string to a date time\n",
    "profile[\"became_member_on\"] = pd.to_datetime(profile['became_member_on'], format='%Y%m%d')\n",
    "\n",
    "# Create a new column just with years value.\n",
    "profile[\"member_since\"] =  profile[\"became_member_on\"].dt.year\n",
    "\n",
    "# Drop \"became_member_on\" columns from the data frames\n",
    "profile = profile.drop([\"became_member_on\"], axis =1)\n"
   ]
  },
  {
   "cell_type": "code",
   "execution_count": 35,
   "metadata": {},
   "outputs": [],
   "source": [
    "# Change the data type of 'age' and \"income\" to int\n",
    "profile[\"age\"] = profile.age.astype(\"int64\")\n",
    "profile[\"income\"] = profile.income.astype(\"int64\")\n"
   ]
  },
  {
   "cell_type": "code",
   "execution_count": 36,
   "metadata": {},
   "outputs": [
    {
     "data": {
      "image/png": "[encoded data removed]",
      "text/plain": [
       "<Figure size 720x288 with 1 Axes>"
      ]
     },
     "metadata": {},
     "output_type": "display_data"
    }
   ],
   "source": [
    "# Histogram of age\n",
    "plotting_histplot(profile[\"age\"], \"Customer's age\" )\n"
   ]
  },
  {
   "cell_type": "markdown",
   "metadata": {},
   "source": [
    "After dropping the missing value, the histogram shows a slight shift to the left in mean and median. The new average age for customers equals 54 years old, and the median is 55."
   ]
  },
  {
   "cell_type": "code",
   "execution_count": 37,
   "metadata": {
    "scrolled": false
   },
   "outputs": [],
   "source": [
    "# Rearrange columns\n",
    "profile = profile[[\"customer_id\" , \"gender\",\"age\", \"member_since\", \"income\"]]\n"
   ]
  },
  {
   "cell_type": "code",
   "execution_count": 38,
   "metadata": {},
   "outputs": [
    {
     "data": {
      "text/html": [
       "<div>\n",
       "<style scoped>\n",
       "    .dataframe tbody tr th:only-of-type {\n",
       "        vertical-align: middle;\n",
       "    }\n",
       "\n",
       "    .dataframe tbody tr th {\n",
       "        vertical-align: top;\n",
       "    }\n",
       "\n",
       "    .dataframe thead th {\n",
       "        text-align: right;\n",
       "    }\n",
       "</style>\n",
       "<table border=\"1\" class=\"dataframe\">\n",
       "  <thead>\n",
       "    <tr style=\"text-align: right;\">\n",
       "      <th></th>\n",
       "      <th>customer_id</th>\n",
       "      <th>gender</th>\n",
       "      <th>age</th>\n",
       "      <th>member_since</th>\n",
       "      <th>income</th>\n",
       "    </tr>\n",
       "  </thead>\n",
       "  <tbody>\n",
       "    <tr>\n",
       "      <th>1</th>\n",
       "      <td>0610b486422d4921ae7d2bf64640c50b</td>\n",
       "      <td>F</td>\n",
       "      <td>55</td>\n",
       "      <td>2017</td>\n",
       "      <td>112000</td>\n",
       "    </tr>\n",
       "    <tr>\n",
       "      <th>3</th>\n",
       "      <td>78afa995795e4d85b5d9ceeca43f5fef</td>\n",
       "      <td>F</td>\n",
       "      <td>75</td>\n",
       "      <td>2017</td>\n",
       "      <td>100000</td>\n",
       "    </tr>\n",
       "    <tr>\n",
       "      <th>5</th>\n",
       "      <td>e2127556f4f64592b11af22de27a7932</td>\n",
       "      <td>M</td>\n",
       "      <td>68</td>\n",
       "      <td>2018</td>\n",
       "      <td>70000</td>\n",
       "    </tr>\n",
       "    <tr>\n",
       "      <th>8</th>\n",
       "      <td>389bc3fa690240e798340f5a15918d5c</td>\n",
       "      <td>M</td>\n",
       "      <td>65</td>\n",
       "      <td>2018</td>\n",
       "      <td>53000</td>\n",
       "    </tr>\n",
       "    <tr>\n",
       "      <th>12</th>\n",
       "      <td>2eeac8d8feae4a8cad5a6af0499a211d</td>\n",
       "      <td>M</td>\n",
       "      <td>58</td>\n",
       "      <td>2017</td>\n",
       "      <td>51000</td>\n",
       "    </tr>\n",
       "  </tbody>\n",
       "</table>\n",
       "</div>"
      ],
      "text/plain": [
       "                         customer_id gender  age  member_since  income\n",
       "1   0610b486422d4921ae7d2bf64640c50b      F   55          2017  112000\n",
       "3   78afa995795e4d85b5d9ceeca43f5fef      F   75          2017  100000\n",
       "5   e2127556f4f64592b11af22de27a7932      M   68          2018   70000\n",
       "8   389bc3fa690240e798340f5a15918d5c      M   65          2018   53000\n",
       "12  2eeac8d8feae4a8cad5a6af0499a211d      M   58          2017   51000"
      ]
     },
     "execution_count": 38,
     "metadata": {},
     "output_type": "execute_result"
    }
   ],
   "source": [
    "profile.head()\n"
   ]
  },
  {
   "cell_type": "markdown",
   "metadata": {},
   "source": [
    "- Profile DataFrame contained _17000_ rows and five columns after dropping the value number of rows equals _14825_.\n",
    "\n",
    "- The year of 'became_member_on\" was extracted in the separate column \"member_since,\" and 'became_member_on\" was dropped.\n",
    "\n",
    "- Rearranged columns order in this way \"customer_id\" take a 0 index.\n",
    "\n",
    "- Renamed column \"id\" to \"customer_id\"\n",
    "- Dropped the missing values"
   ]
  },
  {
   "cell_type": "markdown",
   "metadata": {},
   "source": [
    "1.3 transcript"
   ]
  },
  {
   "cell_type": "markdown",
   "metadata": {},
   "source": [
    "**transcript.json**\n",
    "* event (str) - record description (ie transaction, offer received, offer viewed, etc.)\n",
    "* person (str) - customer id\n",
    "* time (int) - time in hours since start of test. The data begins at time t=0\n",
    "* value - (dict of strings) - either an offer id or transaction amount depending on the record"
   ]
  },
  {
   "cell_type": "code",
   "execution_count": 39,
   "metadata": {},
   "outputs": [
    {
     "data": {
      "text/html": [
       "<div>\n",
       "<style scoped>\n",
       "    .dataframe tbody tr th:only-of-type {\n",
       "        vertical-align: middle;\n",
       "    }\n",
       "\n",
       "    .dataframe tbody tr th {\n",
       "        vertical-align: top;\n",
       "    }\n",
       "\n",
       "    .dataframe thead th {\n",
       "        text-align: right;\n",
       "    }\n",
       "</style>\n",
       "<table border=\"1\" class=\"dataframe\">\n",
       "  <thead>\n",
       "    <tr style=\"text-align: right;\">\n",
       "      <th></th>\n",
       "      <th>person</th>\n",
       "      <th>event</th>\n",
       "      <th>value</th>\n",
       "      <th>time</th>\n",
       "    </tr>\n",
       "  </thead>\n",
       "  <tbody>\n",
       "    <tr>\n",
       "      <th>0</th>\n",
       "      <td>78afa995795e4d85b5d9ceeca43f5fef</td>\n",
       "      <td>offer received</td>\n",
       "      <td>{'offer id': '9b98b8c7a33c4b65b9aebfe6a799e6d9'}</td>\n",
       "      <td>0</td>\n",
       "    </tr>\n",
       "    <tr>\n",
       "      <th>1</th>\n",
       "      <td>a03223e636434f42ac4c3df47e8bac43</td>\n",
       "      <td>offer received</td>\n",
       "      <td>{'offer id': '0b1e1539f2cc45b7b9fa7c272da2e1d7'}</td>\n",
       "      <td>0</td>\n",
       "    </tr>\n",
       "  </tbody>\n",
       "</table>\n",
       "</div>"
      ],
      "text/plain": [
       "                             person           event  \\\n",
       "0  78afa995795e4d85b5d9ceeca43f5fef  offer received   \n",
       "1  a03223e636434f42ac4c3df47e8bac43  offer received   \n",
       "\n",
       "                                              value  time  \n",
       "0  {'offer id': '9b98b8c7a33c4b65b9aebfe6a799e6d9'}     0  \n",
       "1  {'offer id': '0b1e1539f2cc45b7b9fa7c272da2e1d7'}     0  "
      ]
     },
     "execution_count": 39,
     "metadata": {},
     "output_type": "execute_result"
    }
   ],
   "source": [
    "# Inspect data\n",
    "transcript.head(2)\n"
   ]
  },
  {
   "cell_type": "code",
   "execution_count": 40,
   "metadata": {},
   "outputs": [
    {
     "name": "stdout",
     "output_type": "stream",
     "text": [
      "<class 'pandas.core.frame.DataFrame'>\n",
      "RangeIndex: 306534 entries, 0 to 306533\n",
      "Data columns (total 4 columns):\n",
      " #   Column  Non-Null Count   Dtype \n",
      "---  ------  --------------   ----- \n",
      " 0   person  306534 non-null  object\n",
      " 1   event   306534 non-null  object\n",
      " 2   value   306534 non-null  object\n",
      " 3   time    306534 non-null  int64 \n",
      "dtypes: int64(1), object(3)\n",
      "memory usage: 9.4+ MB\n"
     ]
    }
   ],
   "source": [
    "# Print data information\n",
    "transcript.info()\n"
   ]
  },
  {
   "cell_type": "code",
   "execution_count": 41,
   "metadata": {},
   "outputs": [
    {
     "data": {
      "text/plain": [
       "(306534, 4)"
      ]
     },
     "execution_count": 41,
     "metadata": {},
     "output_type": "execute_result"
    }
   ],
   "source": [
    "# Examine the shape\n",
    "transcript.shape\n"
   ]
  },
  {
   "cell_type": "code",
   "execution_count": 42,
   "metadata": {},
   "outputs": [],
   "source": [
    "# Rename person column to customer_id \n",
    "transcript.rename(columns = {'person': 'customer_id'}, inplace = True)\n"
   ]
  },
  {
   "cell_type": "code",
   "execution_count": 43,
   "metadata": {},
   "outputs": [
    {
     "data": {
      "image/png": "[encoded data removed]",
      "text/plain": [
       "<Figure size 720x288 with 1 Axes>"
      ]
     },
     "metadata": {},
     "output_type": "display_data"
    }
   ],
   "source": [
    "# Showing the ratio of transcripts by event\n",
    "countplot_h(data = transcript[\"event\"], title = \"The events types\")\n"
   ]
  },
  {
   "cell_type": "markdown",
   "metadata": {},
   "source": [
    "#### Transcript Data Cleaning"
   ]
  },
  {
   "cell_type": "code",
   "execution_count": 44,
   "metadata": {
    "scrolled": true
   },
   "outputs": [
    {
     "data": {
      "text/plain": [
       "customer_id    0\n",
       "event          0\n",
       "value          0\n",
       "time           0\n",
       "dtype: int64"
      ]
     },
     "execution_count": 44,
     "metadata": {},
     "output_type": "execute_result"
    }
   ],
   "source": [
    "# Inspect the missing values\n",
    "transcript.isnull().sum()\n"
   ]
  },
  {
   "cell_type": "markdown",
   "metadata": {},
   "source": [
    "The \"value\" column holds the __key:value__ pairs; thus, it is a __dictionary__. \n",
    "To found all keys,we use iterating over a __itertools.chain__."
   ]
  },
  {
   "cell_type": "code",
   "execution_count": 45,
   "metadata": {},
   "outputs": [
    {
     "name": "stdout",
     "output_type": "stream",
     "text": [
      "{'reward', 'amount', 'offer_id', 'offer id'}\n"
     ]
    }
   ],
   "source": [
    "# Extract keys value\n",
    "keys = {k for k in chain(*transcript[\"value\"])}\n",
    "print(keys)\n"
   ]
  },
  {
   "cell_type": "code",
   "execution_count": 46,
   "metadata": {},
   "outputs": [],
   "source": [
    "# Extract dictionary from \"value\" column rows into their columns\n",
    "transcript['offer_id'] = [\n",
    "    [*i.values()][0]if [*i.keys()][0] in \n",
    "    ['offer id','offer_id'] else 0 for i in transcript.value\n",
    "    ]\n"
   ]
  },
  {
   "cell_type": "code",
   "execution_count": 47,
   "metadata": {},
   "outputs": [],
   "source": [
    "# Extract values from the dictionary to columns\n",
    "transcript['amount_spent'] = transcript['value'].apply(lambda x: x.get('amount'))\n",
    "transcript['reward'] = transcript['value'].apply(lambda x: x.get('reward'))\n"
   ]
  },
  {
   "cell_type": "code",
   "execution_count": 48,
   "metadata": {},
   "outputs": [],
   "source": [
    "# Fill in missing values with 0, using the .fillna() method\n",
    "transcript[\"amount_spent\"].fillna(0, inplace=True)\n",
    "transcript[\"reward\"].fillna(0, inplace=True)\n",
    "\n",
    "# Drop \"value\" column\n",
    "transcript = transcript.drop([\"value\"], axis=1)\n"
   ]
  },
  {
   "cell_type": "code",
   "execution_count": 49,
   "metadata": {},
   "outputs": [],
   "source": [
    "# Replace offer_id value to numeric in range 1 to 10 \n",
    "transcript['offer_id'] = transcript['offer_id'].replace(offer_id_dict)\n",
    "\n",
    "transcript['offer_id'] = transcript['offer_id'].replace(np.nan, 0)\n"
   ]
  },
  {
   "cell_type": "code",
   "execution_count": 50,
   "metadata": {},
   "outputs": [
    {
     "data": {
      "text/html": [
       "<div>\n",
       "<style scoped>\n",
       "    .dataframe tbody tr th:only-of-type {\n",
       "        vertical-align: middle;\n",
       "    }\n",
       "\n",
       "    .dataframe tbody tr th {\n",
       "        vertical-align: top;\n",
       "    }\n",
       "\n",
       "    .dataframe thead th {\n",
       "        text-align: right;\n",
       "    }\n",
       "</style>\n",
       "<table border=\"1\" class=\"dataframe\">\n",
       "  <thead>\n",
       "    <tr style=\"text-align: right;\">\n",
       "      <th></th>\n",
       "      <th>customer_id</th>\n",
       "      <th>event</th>\n",
       "      <th>time</th>\n",
       "      <th>offer_id</th>\n",
       "      <th>amount_spent</th>\n",
       "      <th>reward</th>\n",
       "    </tr>\n",
       "  </thead>\n",
       "  <tbody>\n",
       "    <tr>\n",
       "      <th>0</th>\n",
       "      <td>78afa995795e4d85b5d9ceeca43f5fef</td>\n",
       "      <td>offer received</td>\n",
       "      <td>0</td>\n",
       "      <td>4</td>\n",
       "      <td>0.0</td>\n",
       "      <td>0.0</td>\n",
       "    </tr>\n",
       "    <tr>\n",
       "      <th>1</th>\n",
       "      <td>a03223e636434f42ac4c3df47e8bac43</td>\n",
       "      <td>offer received</td>\n",
       "      <td>0</td>\n",
       "      <td>5</td>\n",
       "      <td>0.0</td>\n",
       "      <td>0.0</td>\n",
       "    </tr>\n",
       "  </tbody>\n",
       "</table>\n",
       "</div>"
      ],
      "text/plain": [
       "                        customer_id           event  time  offer_id  \\\n",
       "0  78afa995795e4d85b5d9ceeca43f5fef  offer received     0         4   \n",
       "1  a03223e636434f42ac4c3df47e8bac43  offer received     0         5   \n",
       "\n",
       "   amount_spent  reward  \n",
       "0           0.0     0.0  \n",
       "1           0.0     0.0  "
      ]
     },
     "execution_count": 50,
     "metadata": {},
     "output_type": "execute_result"
    }
   ],
   "source": [
    "transcript.head(2)\n"
   ]
  },
  {
   "cell_type": "markdown",
   "metadata": {},
   "source": [
    "- The transcript Dataframe contained 306534 rows and four columns. Remember that it is not a number of customers or transactions; it is the number of each customer action. \n",
    "\n",
    "- Rename \"person\" column to \"customer_id\"\n",
    "\n",
    "- Extracted \"value\" values in the separate columns.\n",
    "\n",
    "- Replace values in the \"offer_id\" column from hashes into numerical in the 1 to 10 range."
   ]
  },
  {
   "cell_type": "markdown",
   "metadata": {},
   "source": [
    "# Merging DataFrames"
   ]
  },
  {
   "cell_type": "code",
   "execution_count": 51,
   "metadata": {},
   "outputs": [],
   "source": [
    "# Copy dataframes\n",
    "portfolio_1 = portfolio.copy()\n",
    "profile_1 = profile.copy()\n",
    "transcript_1 = transcript.copy()\n"
   ]
  },
  {
   "cell_type": "code",
   "execution_count": 52,
   "metadata": {},
   "outputs": [
    {
     "data": {
      "text/html": [
       "<div>\n",
       "<style scoped>\n",
       "    .dataframe tbody tr th:only-of-type {\n",
       "        vertical-align: middle;\n",
       "    }\n",
       "\n",
       "    .dataframe tbody tr th {\n",
       "        vertical-align: top;\n",
       "    }\n",
       "\n",
       "    .dataframe thead th {\n",
       "        text-align: right;\n",
       "    }\n",
       "</style>\n",
       "<table border=\"1\" class=\"dataframe\">\n",
       "  <thead>\n",
       "    <tr style=\"text-align: right;\">\n",
       "      <th></th>\n",
       "      <th>reward</th>\n",
       "      <th>channels</th>\n",
       "      <th>difficulty</th>\n",
       "      <th>duration</th>\n",
       "      <th>offer_type</th>\n",
       "      <th>offer_id</th>\n",
       "    </tr>\n",
       "  </thead>\n",
       "  <tbody>\n",
       "    <tr>\n",
       "      <th>0</th>\n",
       "      <td>10</td>\n",
       "      <td>[email, mobile, social]</td>\n",
       "      <td>10</td>\n",
       "      <td>168</td>\n",
       "      <td>bogo</td>\n",
       "      <td>1</td>\n",
       "    </tr>\n",
       "    <tr>\n",
       "      <th>1</th>\n",
       "      <td>10</td>\n",
       "      <td>[web, email, mobile, social]</td>\n",
       "      <td>10</td>\n",
       "      <td>120</td>\n",
       "      <td>bogo</td>\n",
       "      <td>2</td>\n",
       "    </tr>\n",
       "  </tbody>\n",
       "</table>\n",
       "</div>"
      ],
      "text/plain": [
       "   reward                      channels  difficulty  duration offer_type  \\\n",
       "0      10       [email, mobile, social]          10       168       bogo   \n",
       "1      10  [web, email, mobile, social]          10       120       bogo   \n",
       "\n",
       "   offer_id  \n",
       "0         1  \n",
       "1         2  "
      ]
     },
     "execution_count": 52,
     "metadata": {},
     "output_type": "execute_result"
    }
   ],
   "source": [
    "portfolio_1.head(2)"
   ]
  },
  {
   "cell_type": "code",
   "execution_count": 53,
   "metadata": {},
   "outputs": [
    {
     "data": {
      "text/html": [
       "<div>\n",
       "<style scoped>\n",
       "    .dataframe tbody tr th:only-of-type {\n",
       "        vertical-align: middle;\n",
       "    }\n",
       "\n",
       "    .dataframe tbody tr th {\n",
       "        vertical-align: top;\n",
       "    }\n",
       "\n",
       "    .dataframe thead th {\n",
       "        text-align: right;\n",
       "    }\n",
       "</style>\n",
       "<table border=\"1\" class=\"dataframe\">\n",
       "  <thead>\n",
       "    <tr style=\"text-align: right;\">\n",
       "      <th></th>\n",
       "      <th>customer_id</th>\n",
       "      <th>gender</th>\n",
       "      <th>age</th>\n",
       "      <th>member_since</th>\n",
       "      <th>income</th>\n",
       "    </tr>\n",
       "  </thead>\n",
       "  <tbody>\n",
       "    <tr>\n",
       "      <th>1</th>\n",
       "      <td>0610b486422d4921ae7d2bf64640c50b</td>\n",
       "      <td>F</td>\n",
       "      <td>55</td>\n",
       "      <td>2017</td>\n",
       "      <td>112000</td>\n",
       "    </tr>\n",
       "    <tr>\n",
       "      <th>3</th>\n",
       "      <td>78afa995795e4d85b5d9ceeca43f5fef</td>\n",
       "      <td>F</td>\n",
       "      <td>75</td>\n",
       "      <td>2017</td>\n",
       "      <td>100000</td>\n",
       "    </tr>\n",
       "  </tbody>\n",
       "</table>\n",
       "</div>"
      ],
      "text/plain": [
       "                        customer_id gender  age  member_since  income\n",
       "1  0610b486422d4921ae7d2bf64640c50b      F   55          2017  112000\n",
       "3  78afa995795e4d85b5d9ceeca43f5fef      F   75          2017  100000"
      ]
     },
     "execution_count": 53,
     "metadata": {},
     "output_type": "execute_result"
    }
   ],
   "source": [
    "profile_1.head(2)"
   ]
  },
  {
   "cell_type": "code",
   "execution_count": 54,
   "metadata": {
    "scrolled": true
   },
   "outputs": [
    {
     "data": {
      "text/html": [
       "<div>\n",
       "<style scoped>\n",
       "    .dataframe tbody tr th:only-of-type {\n",
       "        vertical-align: middle;\n",
       "    }\n",
       "\n",
       "    .dataframe tbody tr th {\n",
       "        vertical-align: top;\n",
       "    }\n",
       "\n",
       "    .dataframe thead th {\n",
       "        text-align: right;\n",
       "    }\n",
       "</style>\n",
       "<table border=\"1\" class=\"dataframe\">\n",
       "  <thead>\n",
       "    <tr style=\"text-align: right;\">\n",
       "      <th></th>\n",
       "      <th>customer_id</th>\n",
       "      <th>event</th>\n",
       "      <th>time</th>\n",
       "      <th>offer_id</th>\n",
       "      <th>amount_spent</th>\n",
       "      <th>reward</th>\n",
       "    </tr>\n",
       "  </thead>\n",
       "  <tbody>\n",
       "    <tr>\n",
       "      <th>0</th>\n",
       "      <td>78afa995795e4d85b5d9ceeca43f5fef</td>\n",
       "      <td>offer received</td>\n",
       "      <td>0</td>\n",
       "      <td>4</td>\n",
       "      <td>0.0</td>\n",
       "      <td>0.0</td>\n",
       "    </tr>\n",
       "    <tr>\n",
       "      <th>1</th>\n",
       "      <td>a03223e636434f42ac4c3df47e8bac43</td>\n",
       "      <td>offer received</td>\n",
       "      <td>0</td>\n",
       "      <td>5</td>\n",
       "      <td>0.0</td>\n",
       "      <td>0.0</td>\n",
       "    </tr>\n",
       "  </tbody>\n",
       "</table>\n",
       "</div>"
      ],
      "text/plain": [
       "                        customer_id           event  time  offer_id  \\\n",
       "0  78afa995795e4d85b5d9ceeca43f5fef  offer received     0         4   \n",
       "1  a03223e636434f42ac4c3df47e8bac43  offer received     0         5   \n",
       "\n",
       "   amount_spent  reward  \n",
       "0           0.0     0.0  \n",
       "1           0.0     0.0  "
      ]
     },
     "execution_count": 54,
     "metadata": {},
     "output_type": "execute_result"
    }
   ],
   "source": [
    "transcript_1.head(2)"
   ]
  },
  {
   "cell_type": "markdown",
   "metadata": {},
   "source": [
    "#### We will work only with customers who have a piece of information in the \"profile\" data frame."
   ]
  },
  {
   "cell_type": "code",
   "execution_count": 55,
   "metadata": {},
   "outputs": [
    {
     "name": "stdout",
     "output_type": "stream",
     "text": [
      "Customers count before operation: 306534\n",
      "Customers count after operation: 272762\n"
     ]
    }
   ],
   "source": [
    "# Filter customers in profile df\n",
    "customers_count = transcript_1['customer_id'].count()\n",
    "transcript_1 = transcript_1[transcript_1['customer_id'].isin(profile_1['customer_id'])]\n",
    "\n",
    "# Print customers counts before and after\n",
    "print(f\"Customers count before operation: {customers_count}\")\n",
    "print(f\"Customers count after operation: {transcript_1.customer_id.count()}\")\n"
   ]
  },
  {
   "cell_type": "code",
   "execution_count": 56,
   "metadata": {},
   "outputs": [],
   "source": [
    "# Create transaction dataset from transcript\n",
    "transaction = transcript_1[['customer_id', 'time', 'amount_spent']]\n"
   ]
  },
  {
   "cell_type": "code",
   "execution_count": 57,
   "metadata": {},
   "outputs": [],
   "source": [
    "# Get one-hot encoding for \"event\"\n",
    "event_dummies = pd.get_dummies(transcript_1['event'])\n",
    "\n",
    "# Remove 'offer_' from column name\n",
    "event_dummies.columns = [col.replace('offer ', '') for col in event_dummies.columns] \n"
   ]
  },
  {
   "cell_type": "code",
   "execution_count": 58,
   "metadata": {},
   "outputs": [],
   "source": [
    "# Merge event_dummies and transcript_1\n",
    "transcript_1 = pd.concat([transcript_1, event_dummies], axis=1).drop(columns=['event'])\n"
   ]
  },
  {
   "cell_type": "code",
   "execution_count": 59,
   "metadata": {
    "scrolled": true
   },
   "outputs": [
    {
     "data": {
      "text/html": [
       "<div>\n",
       "<style scoped>\n",
       "    .dataframe tbody tr th:only-of-type {\n",
       "        vertical-align: middle;\n",
       "    }\n",
       "\n",
       "    .dataframe tbody tr th {\n",
       "        vertical-align: top;\n",
       "    }\n",
       "\n",
       "    .dataframe thead th {\n",
       "        text-align: right;\n",
       "    }\n",
       "</style>\n",
       "<table border=\"1\" class=\"dataframe\">\n",
       "  <thead>\n",
       "    <tr style=\"text-align: right;\">\n",
       "      <th></th>\n",
       "      <th>customer_id</th>\n",
       "      <th>time</th>\n",
       "      <th>offer_id</th>\n",
       "      <th>amount_spent</th>\n",
       "      <th>reward</th>\n",
       "      <th>completed</th>\n",
       "      <th>received</th>\n",
       "      <th>viewed</th>\n",
       "      <th>transaction</th>\n",
       "    </tr>\n",
       "  </thead>\n",
       "  <tbody>\n",
       "    <tr>\n",
       "      <th>0</th>\n",
       "      <td>78afa995795e4d85b5d9ceeca43f5fef</td>\n",
       "      <td>0</td>\n",
       "      <td>4</td>\n",
       "      <td>0.0</td>\n",
       "      <td>0.0</td>\n",
       "      <td>0</td>\n",
       "      <td>1</td>\n",
       "      <td>0</td>\n",
       "      <td>0</td>\n",
       "    </tr>\n",
       "    <tr>\n",
       "      <th>2</th>\n",
       "      <td>e2127556f4f64592b11af22de27a7932</td>\n",
       "      <td>0</td>\n",
       "      <td>10</td>\n",
       "      <td>0.0</td>\n",
       "      <td>0.0</td>\n",
       "      <td>0</td>\n",
       "      <td>1</td>\n",
       "      <td>0</td>\n",
       "      <td>0</td>\n",
       "    </tr>\n",
       "  </tbody>\n",
       "</table>\n",
       "</div>"
      ],
      "text/plain": [
       "                        customer_id  time  offer_id  amount_spent  reward  \\\n",
       "0  78afa995795e4d85b5d9ceeca43f5fef     0         4           0.0     0.0   \n",
       "2  e2127556f4f64592b11af22de27a7932     0        10           0.0     0.0   \n",
       "\n",
       "   completed  received  viewed  transaction  \n",
       "0          0         1       0            0  \n",
       "2          0         1       0            0  "
      ]
     },
     "execution_count": 59,
     "metadata": {},
     "output_type": "execute_result"
    }
   ],
   "source": [
    "transcript_1.head(2)"
   ]
  },
  {
   "cell_type": "code",
   "execution_count": 60,
   "metadata": {
    "scrolled": false
   },
   "outputs": [
    {
     "data": {
      "text/html": [
       "<div>\n",
       "<style scoped>\n",
       "    .dataframe tbody tr th:only-of-type {\n",
       "        vertical-align: middle;\n",
       "    }\n",
       "\n",
       "    .dataframe tbody tr th {\n",
       "        vertical-align: top;\n",
       "    }\n",
       "\n",
       "    .dataframe thead th {\n",
       "        text-align: right;\n",
       "    }\n",
       "</style>\n",
       "<table border=\"1\" class=\"dataframe\">\n",
       "  <thead>\n",
       "    <tr style=\"text-align: right;\">\n",
       "      <th></th>\n",
       "      <th>customer_id</th>\n",
       "      <th>time</th>\n",
       "      <th>offer_id</th>\n",
       "      <th>reward</th>\n",
       "      <th>completed</th>\n",
       "      <th>received</th>\n",
       "      <th>viewed</th>\n",
       "    </tr>\n",
       "  </thead>\n",
       "  <tbody>\n",
       "    <tr>\n",
       "      <th>0</th>\n",
       "      <td>78afa995795e4d85b5d9ceeca43f5fef</td>\n",
       "      <td>0</td>\n",
       "      <td>4</td>\n",
       "      <td>0.0</td>\n",
       "      <td>0</td>\n",
       "      <td>1</td>\n",
       "      <td>0</td>\n",
       "    </tr>\n",
       "    <tr>\n",
       "      <th>2</th>\n",
       "      <td>e2127556f4f64592b11af22de27a7932</td>\n",
       "      <td>0</td>\n",
       "      <td>10</td>\n",
       "      <td>0.0</td>\n",
       "      <td>0</td>\n",
       "      <td>1</td>\n",
       "      <td>0</td>\n",
       "    </tr>\n",
       "  </tbody>\n",
       "</table>\n",
       "</div>"
      ],
      "text/plain": [
       "                        customer_id  time  offer_id  reward  completed  \\\n",
       "0  78afa995795e4d85b5d9ceeca43f5fef     0         4     0.0          0   \n",
       "2  e2127556f4f64592b11af22de27a7932     0        10     0.0          0   \n",
       "\n",
       "   received  viewed  \n",
       "0         1       0  \n",
       "2         1       0  "
      ]
     },
     "execution_count": 60,
     "metadata": {},
     "output_type": "execute_result"
    }
   ],
   "source": [
    "# Create offer data df\n",
    "offer_data = transcript_1.dropna(subset=['offer_id'],axis=0).drop(columns=['transaction', 'amount_spent'])\n",
    "offer_data['offer_id'] = offer_data['offer_id'].astype(int)\n",
    "offer_data.head(2)"
   ]
  },
  {
   "cell_type": "code",
   "execution_count": 61,
   "metadata": {},
   "outputs": [],
   "source": [
    "def merge_df(customer_id, portfolio, profile, offer_data, transaction):\n",
    "    ''' The function creates a list of dictionaries describing the \n",
    "    success of offers sent to each customer.\n",
    "    \n",
    "    Args:\n",
    "        customer_id: customer id (integer)\n",
    "        portfolio: containing offer ids and data about each offer\n",
    "        profile: demographic data for each customer\n",
    "        transaction: records for transactions completed\n",
    "        offer_data: records offers viewed, offers viewed, and offers completed\n",
    "    \n",
    "    Returns:\n",
    "        rows: a list of dictionaries describing the success of offers sent to each \n",
    "    customer '''\n",
    "    \n",
    "    # Filter a specific customer\n",
    "    get_user = profile[profile['customer_id'] == customer_id]\n",
    "    \n",
    "    # Filter offer data for a specific customer\n",
    "    get_offer_data = offer_data['customer_id'] == customer_id\n",
    "    user_offer_data = offer_data[get_offer_data]\n",
    "    user_offer_data = user_offer_data.drop(columns='customer_id').reset_index(drop=True)\n",
    "    \n",
    "    # Filter transaction data for a specific customer\n",
    "    get_transaction = transaction['customer_id'] == customer_id\n",
    "    user_transaction_data = transaction[get_transaction]\n",
    "    user_transaction_data = user_transaction_data.drop(columns='customer_id').reset_index(drop=True)\n",
    "    \n",
    "    \n",
    "    # Create DataFrames for when a customer receives, views, and completes an offer\n",
    "    event_cols = ['received', 'viewed', 'completed']\n",
    "    \n",
    "    # Received offers\n",
    "    offer_received = user_offer_data[user_offer_data['received'] == 1]\n",
    "    offer_received = offer_received.drop(columns=event_cols).reset_index(drop=True)\n",
    "    \n",
    "    # Viewed offers\n",
    "    offer_viewed = user_offer_data[user_offer_data['viewed'] == 1]\n",
    "    offer_viewed = offer_viewed.drop(columns=event_cols).reset_index(drop=True)\n",
    "                                                                     \n",
    "    offer_completed = user_offer_data[user_offer_data['completed'] == 1]\n",
    "    offer_completed = offer_completed.drop(columns=event_cols).reset_index(drop=True)\n",
    "    \n",
    "    # Iterate over each offer a customer receives\n",
    "    rows = []\n",
    "    for idx in range(offer_received.shape[0]):\n",
    "    \n",
    "        # Filter current offer id\n",
    "        get_offer_id = offer_received.iloc[idx]['offer_id']\n",
    "\n",
    "        # Filter portfolio data for current offer\n",
    "        get_offer = portfolio.loc[portfolio['offer_id'] == get_offer_id]\n",
    "        duration = get_offer['duration'].values[0]\n",
    "        \n",
    "        # Init time the offer is valid\n",
    "        get_offer_startime = offer_received.iloc[idx]['time']\n",
    "        get_offer_endtime = offer_received.iloc[idx]['time'] + duration\n",
    "        \n",
    "        # Init boolean array to get transactions within the valid offer time window\n",
    "        get_transaction = np.logical_and(user_transaction_data['time'] >=\n",
    "                                         get_offer_startime,\n",
    "                                         user_transaction_data['time'] <=\n",
    "                                         get_offer_endtime)\n",
    "         \n",
    "        # Init boolean array to find when user completes an offer\n",
    "        get_offer_completed = np.logical_and(offer_completed['time'] >= get_offer_startime,\n",
    "                                             offer_completed['time'] <= get_offer_endtime)\n",
    "        \n",
    "        # Init boolean array to find when user views an offer\n",
    "        get_offer_viewed = np.logical_and(offer_viewed['time'] >= get_offer_startime,\n",
    "                                          offer_viewed['time'] <= get_offer_endtime)\n",
    "        \n",
    "        # Find out if current offer was successful\n",
    "        get_offer_successful = get_offer_completed.sum() > 0 and get_offer_viewed.sum() > 0\n",
    "        \n",
    "        # Get customer transactions occuring within the valid offer time window\n",
    "        get_offer_transactions = user_transaction_data[get_transaction]\n",
    "        \n",
    "        # Init dictionary for description of current customer offer\n",
    "        customer_row = {'customer_id': customer_id,\n",
    "                    'offer_id': get_offer_id,\n",
    "                    'time': get_offer_startime,\n",
    "                    'offer_successful': int(get_offer_successful),\n",
    "                    'total_amount': get_offer_transactions['amount_spent'].sum()}\n",
    "        \n",
    "        # Create dict from 'customers_row'\n",
    "        customer_row.update(get_offer.iloc[0,1:].to_dict())\n",
    "        customer_row.update(get_user.iloc[0,1:].to_dict())\n",
    "        \n",
    "        # Append 'customers_row' to 'rows' list\n",
    "        rows.append(customer_row)\n",
    "    return rows\n",
    "        "
   ]
  },
  {
   "cell_type": "code",
   "execution_count": 62,
   "metadata": {},
   "outputs": [],
   "source": [
    "def create_offer_df(portfolio, profile, transaction, offer_data):\n",
    "    ''' This function creates a DataFrame from:\n",
    "    1. portfolio.json - containing offer ids and meta data about each offer (duration, type, etc.)\n",
    "    2. profile.json - demographic data for each customer\n",
    "    3. transcript.json - records for transactions, offers received, offers viewed, and offers completed\n",
    "    \n",
    "    INPUT:\n",
    "    portfolio - containing offer ids and meta data about each offer (duration, type, etc.)\n",
    "    profile - demographic data for each customer\n",
    "    transaction - records for transactions completed\n",
    "    offer_data - records offers received, offers viewed, and offers completed\n",
    "\n",
    "    OUTPUT:\n",
    "    clean_data - Combined DataFrame showing the success of each offer'''\n",
    "\n",
    "\n",
    "    # Init empty array\n",
    "    df_clean = []\n",
    "    \n",
    "    # List each user id\n",
    "    user_id_list = offer_data['customer_id'].unique()\n",
    "\n",
    "    # Loop\n",
    "    for idx in tqdm (range(len(user_id_list))):\n",
    "            df_clean.extend(merge_df(user_id_list[idx], portfolio_1, profile_1,offer_data,transaction))\n",
    "\n",
    "    \n",
    "    \n",
    "    # Create dataframe\n",
    "    clean_data = pd.DataFrame(df_clean)\n",
    "    return clean_data"
   ]
  },
  {
   "cell_type": "markdown",
   "metadata": {},
   "source": [
    "Thanks for waiting😊 This procedure takes about 12 min due to big data sets. "
   ]
  },
  {
   "cell_type": "code",
   "execution_count": 63,
   "metadata": {
    "scrolled": true
   },
   "outputs": [
    {
     "name": "stderr",
     "output_type": "stream",
     "text": [
      "100%|██████████| 14825/14825 [12:24<00:00, 19.92it/s]\n"
     ]
    }
   ],
   "source": [
    "df_final = create_offer_df(portfolio, profile, transaction, offer_data)"
   ]
  },
  {
   "cell_type": "code",
   "execution_count": 64,
   "metadata": {
    "scrolled": true
   },
   "outputs": [
    {
     "data": {
      "text/html": [
       "<div>\n",
       "<style scoped>\n",
       "    .dataframe tbody tr th:only-of-type {\n",
       "        vertical-align: middle;\n",
       "    }\n",
       "\n",
       "    .dataframe tbody tr th {\n",
       "        vertical-align: top;\n",
       "    }\n",
       "\n",
       "    .dataframe thead th {\n",
       "        text-align: right;\n",
       "    }\n",
       "</style>\n",
       "<table border=\"1\" class=\"dataframe\">\n",
       "  <thead>\n",
       "    <tr style=\"text-align: right;\">\n",
       "      <th></th>\n",
       "      <th>customer_id</th>\n",
       "      <th>offer_id</th>\n",
       "      <th>time</th>\n",
       "      <th>offer_successful</th>\n",
       "      <th>total_amount</th>\n",
       "      <th>channels</th>\n",
       "      <th>difficulty</th>\n",
       "      <th>duration</th>\n",
       "      <th>offer_type</th>\n",
       "      <th>gender</th>\n",
       "      <th>age</th>\n",
       "      <th>member_since</th>\n",
       "      <th>income</th>\n",
       "    </tr>\n",
       "  </thead>\n",
       "  <tbody>\n",
       "    <tr>\n",
       "      <th>0</th>\n",
       "      <td>78afa995795e4d85b5d9ceeca43f5fef</td>\n",
       "      <td>4</td>\n",
       "      <td>0.0</td>\n",
       "      <td>1</td>\n",
       "      <td>37.67</td>\n",
       "      <td>[web, email, mobile]</td>\n",
       "      <td>5</td>\n",
       "      <td>168</td>\n",
       "      <td>bogo</td>\n",
       "      <td>F</td>\n",
       "      <td>75</td>\n",
       "      <td>2017</td>\n",
       "      <td>100000</td>\n",
       "    </tr>\n",
       "    <tr>\n",
       "      <th>1</th>\n",
       "      <td>78afa995795e4d85b5d9ceeca43f5fef</td>\n",
       "      <td>8</td>\n",
       "      <td>168.0</td>\n",
       "      <td>0</td>\n",
       "      <td>49.39</td>\n",
       "      <td>[email, mobile, social]</td>\n",
       "      <td>0</td>\n",
       "      <td>72</td>\n",
       "      <td>informational</td>\n",
       "      <td>F</td>\n",
       "      <td>75</td>\n",
       "      <td>2017</td>\n",
       "      <td>100000</td>\n",
       "    </tr>\n",
       "  </tbody>\n",
       "</table>\n",
       "</div>"
      ],
      "text/plain": [
       "                        customer_id  offer_id   time  offer_successful  \\\n",
       "0  78afa995795e4d85b5d9ceeca43f5fef         4    0.0                 1   \n",
       "1  78afa995795e4d85b5d9ceeca43f5fef         8  168.0                 0   \n",
       "\n",
       "   total_amount                 channels  difficulty  duration     offer_type  \\\n",
       "0         37.67     [web, email, mobile]           5       168           bogo   \n",
       "1         49.39  [email, mobile, social]           0        72  informational   \n",
       "\n",
       "  gender  age  member_since  income  \n",
       "0      F   75          2017  100000  \n",
       "1      F   75          2017  100000  "
      ]
     },
     "execution_count": 64,
     "metadata": {},
     "output_type": "execute_result"
    }
   ],
   "source": [
    "df_final.head(2)"
   ]
  },
  {
   "cell_type": "code",
   "execution_count": 65,
   "metadata": {},
   "outputs": [
    {
     "data": {
      "text/plain": [
       "Index(['customer_id', 'offer_id', 'time', 'offer_successful', 'total_amount',\n",
       "       'channels', 'difficulty', 'duration', 'offer_type', 'gender', 'age',\n",
       "       'member_since', 'income'],\n",
       "      dtype='object')"
      ]
     },
     "execution_count": 65,
     "metadata": {},
     "output_type": "execute_result"
    }
   ],
   "source": [
    "df_final.columns"
   ]
  },
  {
   "cell_type": "code",
   "execution_count": 66,
   "metadata": {
    "scrolled": true
   },
   "outputs": [
    {
     "data": {
      "text/plain": [
       "(66501, 13)"
      ]
     },
     "execution_count": 66,
     "metadata": {},
     "output_type": "execute_result"
    }
   ],
   "source": [
    "df_final.shape"
   ]
  },
  {
   "cell_type": "code",
   "execution_count": 67,
   "metadata": {},
   "outputs": [],
   "source": [
    "# Change the data type of \"total_amount\", \"time\" to int\n",
    "df_final[\"total_amount\"] = df_final.total_amount.astype(\"int64\")\n",
    "df_final[\"time\"] = df_final.time.astype(\"int64\")"
   ]
  },
  {
   "cell_type": "markdown",
   "metadata": {},
   "source": [
    "### What kind of offers was send to customers?"
   ]
  },
  {
   "cell_type": "code",
   "execution_count": 68,
   "metadata": {},
   "outputs": [
    {
     "name": "stdout",
     "output_type": "stream",
     "text": [
      "Number of unique offers: 10\n"
     ]
    }
   ],
   "source": [
    "print (f\"Number of unique offers: {df_final.offer_id.nunique()}\")"
   ]
  },
  {
   "cell_type": "code",
   "execution_count": 69,
   "metadata": {
    "scrolled": false
   },
   "outputs": [
    {
     "data": {
      "image/png": "[encoded data removed]",
      "text/plain": [
       "<Figure size 720x288 with 1 Axes>"
      ]
     },
     "metadata": {},
     "output_type": "display_data"
    }
   ],
   "source": [
    "countplot_h(data = df_final[\"offer_type\"], title = \"The offers type\")"
   ]
  },
  {
   "cell_type": "markdown",
   "metadata": {},
   "source": [
    "As we can see on the graph, BOGO and Discount were sent to customers almost equally. In that time, Information type was sent two times less often. For avoiding imbalanced ML models, I will use only BOGO and Discount types as features."
   ]
  },
  {
   "cell_type": "code",
   "execution_count": 70,
   "metadata": {
    "scrolled": false
   },
   "outputs": [
    {
     "data": {
      "image/png": "[encoded data removed]",
      "text/plain": [
       "<Figure size 720x288 with 1 Axes>"
      ]
     },
     "metadata": {},
     "output_type": "display_data"
    }
   ],
   "source": [
    "# Showing the ratio of transcripts by event\n",
    "countplot_v(data = transcript[\"event\"], title = \"The events types\")"
   ]
  },
  {
   "cell_type": "code",
   "execution_count": 71,
   "metadata": {},
   "outputs": [
    {
     "name": "stdout",
     "output_type": "stream",
     "text": [
      "Open rate: 76%\n"
     ]
    }
   ],
   "source": [
    "received = (transcript[\"event\"]==\"offer received\").sum()\n",
    "viewed = (transcript[\"event\"]==\"offer viewed\").sum() \n",
    "print (f\"Open rate: {round((viewed /received) * 100)}%\")"
   ]
  },
  {
   "cell_type": "markdown",
   "metadata": {},
   "source": [
    "#### According to Mailchimp average, the open rate in the Food Services Industry is 23.33%.\n",
    "So open rate is 75.7% it is a fantastic result. I understand our data is mimic, but it is an excellent promotion if actual data is close to that result!"
   ]
  },
  {
   "cell_type": "markdown",
   "metadata": {},
   "source": [
    "References: https://mailchimp.com/resources/email-marketing-benchmarks/"
   ]
  },
  {
   "cell_type": "markdown",
   "metadata": {},
   "source": [
    "### What kind of offer was more successful?"
   ]
  },
  {
   "cell_type": "code",
   "execution_count": 72,
   "metadata": {
    "scrolled": false
   },
   "outputs": [
    {
     "data": {
      "image/png": "[encoded data removed]",
      "text/plain": [
       "<Figure size 720x288 with 1 Axes>"
      ]
     },
     "metadata": {},
     "output_type": "display_data"
    }
   ],
   "source": [
    "# Groupby \"offer_id\",\"offer_type\", \"offer successful\" for plotting\n",
    "offers_type_by_success = df_final.groupby([\"offer_id\",\n",
    "                                           \"offer_type\", \n",
    "                                           \"offer_successful\"]).size()\n",
    "\n",
    "offers_type_by_success = offers_type_by_success.unstack().sort_values(by= \"offer_type\")\n",
    "\n",
    "\n",
    "# Using \"bar_stacked \" function\n",
    "bar_stacked (offers_type_by_success, \"Distribution of offers type by the success\" )"
   ]
  },
  {
   "cell_type": "code",
   "execution_count": 73,
   "metadata": {
    "scrolled": false
   },
   "outputs": [],
   "source": [
    "# Creating DataFrame to find out the percent of success for each offer.\n",
    "# Group by offer_id, offer_type, and offer_successfull for a total number of offers\n",
    "total_offers = df_final.groupby([\"offer_id\", \"offer_type\"])[\"offer_successful\"].size()\n",
    "\n",
    "\n",
    "total_offers = pd.DataFrame(total_offers).reset_index()\n",
    "# Rename offer_successful column into offers_total\n",
    "total_offers.rename(columns = {\"offer_successful\": \"offers_total\"}, inplace = True)\n",
    "\n",
    "# Group by offer_id, offer_type, and offer_successfull just for successful offers\n",
    "success_offers = df_final.groupby([\"offer_id\", \"offer_type\"])[\"offer_successful\"].sum()\n",
    "success_offers = pd.DataFrame(success_offers).reset_index()\n",
    "\n",
    "# Merge total_offers and success_offers\n",
    "total_success_offers = total_offers.merge(success_offers, on = [\"offer_id\",\"offer_type\"])\n",
    "\n",
    "# Calculate percentage of success\n",
    "total_success_offers[\"percent_success\"] = round((total_success_offers[\"offer_successful\"]\n",
    "                                           / total_success_offers[\"offers_total\"])*100, 2)\n",
    "\n",
    "total_success_offers = total_success_offers.set_index('offer_id')\n",
    "\n",
    "total_success_offers = total_success_offers.sort_values(by = \"percent_success\", ascending= False)"
   ]
  },
  {
   "cell_type": "code",
   "execution_count": 74,
   "metadata": {},
   "outputs": [
    {
     "data": {
      "text/html": [
       "<div>\n",
       "<style scoped>\n",
       "    .dataframe tbody tr th:only-of-type {\n",
       "        vertical-align: middle;\n",
       "    }\n",
       "\n",
       "    .dataframe tbody tr th {\n",
       "        vertical-align: top;\n",
       "    }\n",
       "\n",
       "    .dataframe thead th {\n",
       "        text-align: right;\n",
       "    }\n",
       "</style>\n",
       "<table border=\"1\" class=\"dataframe\">\n",
       "  <thead>\n",
       "    <tr style=\"text-align: right;\">\n",
       "      <th></th>\n",
       "      <th>offer_type</th>\n",
       "      <th>offers_total</th>\n",
       "      <th>offer_successful</th>\n",
       "      <th>percent_success</th>\n",
       "    </tr>\n",
       "    <tr>\n",
       "      <th>offer_id</th>\n",
       "      <th></th>\n",
       "      <th></th>\n",
       "      <th></th>\n",
       "      <th></th>\n",
       "    </tr>\n",
       "  </thead>\n",
       "  <tbody>\n",
       "    <tr>\n",
       "      <th>7</th>\n",
       "      <td>discount</td>\n",
       "      <td>6652</td>\n",
       "      <td>5008</td>\n",
       "      <td>75.29</td>\n",
       "    </tr>\n",
       "    <tr>\n",
       "      <th>6</th>\n",
       "      <td>discount</td>\n",
       "      <td>6655</td>\n",
       "      <td>4841</td>\n",
       "      <td>72.74</td>\n",
       "    </tr>\n",
       "    <tr>\n",
       "      <th>9</th>\n",
       "      <td>bogo</td>\n",
       "      <td>6576</td>\n",
       "      <td>4052</td>\n",
       "      <td>61.62</td>\n",
       "    </tr>\n",
       "    <tr>\n",
       "      <th>1</th>\n",
       "      <td>bogo</td>\n",
       "      <td>6683</td>\n",
       "      <td>3652</td>\n",
       "      <td>54.65</td>\n",
       "    </tr>\n",
       "    <tr>\n",
       "      <th>2</th>\n",
       "      <td>bogo</td>\n",
       "      <td>6593</td>\n",
       "      <td>3410</td>\n",
       "      <td>51.72</td>\n",
       "    </tr>\n",
       "    <tr>\n",
       "      <th>4</th>\n",
       "      <td>bogo</td>\n",
       "      <td>6685</td>\n",
       "      <td>3228</td>\n",
       "      <td>48.29</td>\n",
       "    </tr>\n",
       "    <tr>\n",
       "      <th>10</th>\n",
       "      <td>discount</td>\n",
       "      <td>6631</td>\n",
       "      <td>3165</td>\n",
       "      <td>47.73</td>\n",
       "    </tr>\n",
       "    <tr>\n",
       "      <th>5</th>\n",
       "      <td>discount</td>\n",
       "      <td>6726</td>\n",
       "      <td>3078</td>\n",
       "      <td>45.76</td>\n",
       "    </tr>\n",
       "    <tr>\n",
       "      <th>3</th>\n",
       "      <td>informational</td>\n",
       "      <td>6657</td>\n",
       "      <td>514</td>\n",
       "      <td>7.72</td>\n",
       "    </tr>\n",
       "    <tr>\n",
       "      <th>8</th>\n",
       "      <td>informational</td>\n",
       "      <td>6643</td>\n",
       "      <td>417</td>\n",
       "      <td>6.28</td>\n",
       "    </tr>\n",
       "  </tbody>\n",
       "</table>\n",
       "</div>"
      ],
      "text/plain": [
       "             offer_type  offers_total  offer_successful  percent_success\n",
       "offer_id                                                                \n",
       "7              discount          6652              5008            75.29\n",
       "6              discount          6655              4841            72.74\n",
       "9                  bogo          6576              4052            61.62\n",
       "1                  bogo          6683              3652            54.65\n",
       "2                  bogo          6593              3410            51.72\n",
       "4                  bogo          6685              3228            48.29\n",
       "10             discount          6631              3165            47.73\n",
       "5              discount          6726              3078            45.76\n",
       "3         informational          6657               514             7.72\n",
       "8         informational          6643               417             6.28"
      ]
     },
     "execution_count": 74,
     "metadata": {},
     "output_type": "execute_result"
    }
   ],
   "source": [
    "total_success_offers"
   ]
  },
  {
   "cell_type": "code",
   "execution_count": 75,
   "metadata": {},
   "outputs": [
    {
     "data": {
      "image/png": "[encoded data removed]",
      "text/plain": [
       "<Figure size 720x288 with 1 Axes>"
      ]
     },
     "metadata": {},
     "output_type": "display_data"
    }
   ],
   "source": [
    "plot_bar(total_success_offers[\"percent_success\"], \n",
    "         \"Offer id\", \"Percent of success\",\n",
    "         \"Success percentage for each offer.\")"
   ]
  },
  {
   "cell_type": "markdown",
   "metadata": {},
   "source": [
    "#### The most successful offers are 6 and 7. Both of them are discount-type. And successful rate equals 75% and 73%. The most unsuccessful are 3 and 8; both of them are informational. "
   ]
  },
  {
   "cell_type": "markdown",
   "metadata": {},
   "source": [
    "#### We can't analyze the best offer without finding how profitable it is. Now we see the offers which convert the most amount of money. "
   ]
  },
  {
   "cell_type": "code",
   "execution_count": 76,
   "metadata": {
    "scrolled": true
   },
   "outputs": [
    {
     "data": {
      "image/png": "[encoded data removed]",
      "text/plain": [
       "<Figure size 720x288 with 1 Axes>"
      ]
     },
     "metadata": {},
     "output_type": "display_data"
    }
   ],
   "source": [
    "# Groupby \"offer_id\",\"offer_type\", \"offer successful\" for plotting\n",
    "offer_id_by_amount = pd.DataFrame(df_final.groupby([\"offer_id\"])[\"total_amount\"].sum())\n",
    "\n",
    "plot_line(offer_id_by_amount,\"offer id\", \"amount of money\", \"The total amount of money for each offer\")"
   ]
  },
  {
   "cell_type": "markdown",
   "metadata": {},
   "source": [
    "#### The most successful offer is offer number 7, promoted discount of 2 dollars if the customer spends 10 dollars. The offer was valid for ten days and sent through all channels. The second successful offer is number 6. Also gave a discount, but 3 dollars if the customer spent 7 dollars. The offer was valid for seven days and was sent through all channels as well. Customers spent less than on offer 7 on 105 297 dollars. "
   ]
  },
  {
   "cell_type": "markdown",
   "metadata": {},
   "source": [
    "### Analysis of the demographics of customers who involved in the promotion"
   ]
  },
  {
   "cell_type": "code",
   "execution_count": 77,
   "metadata": {
    "scrolled": true
   },
   "outputs": [
    {
     "data": {
      "image/png": "[encoded data removed]",
      "text/plain": [
       "<Figure size 720x288 with 1 Axes>"
      ]
     },
     "metadata": {},
     "output_type": "display_data"
    }
   ],
   "source": [
    "# Create a count plot with gender on the x-axis\n",
    "gender = df_final.groupby([\"customer_id\",\"gender\"]).count()\n",
    "gender = gender.reset_index()\n",
    "\n",
    "countplot_v(gender.gender, \"Gender distribution of customers\")\n"
   ]
  },
  {
   "cell_type": "code",
   "execution_count": 78,
   "metadata": {},
   "outputs": [],
   "source": [
    "# Count the proportion of each gender\n",
    "gender_prop = gender['gender'].value_counts()\n",
    "m = int((gender_prop[0] / gender_prop.sum())*100) \n",
    "f = int((gender_prop[1] / gender_prop.sum())*100)\n",
    "o = int((gender_prop[2] / gender_prop.sum())*100)"
   ]
  },
  {
   "cell_type": "code",
   "execution_count": 79,
   "metadata": {
    "scrolled": true
   },
   "outputs": [
    {
     "name": "stdout",
     "output_type": "stream",
     "text": [
      "The customer base is divided into three genders: male (M), female (F),others(O).\n",
      "All customers who indicate their gender: 14820.\n",
      "The proportion of male (M) is 57 % ,the proportion of female (F) is 41 % and others equals 1 %\n"
     ]
    }
   ],
   "source": [
    "print (f\"The customer base is divided into three genders: male (M), female (F),others(O).\\n\"\n",
    "       f\"All customers who indicate their gender: {gender_prop.sum()}.\\n\"\n",
    "       f\"The proportion of male (M) is {m} % ,the proportion of female (F) is {f} % and others equals {o} %\")"
   ]
  },
  {
   "cell_type": "code",
   "execution_count": 80,
   "metadata": {
    "scrolled": true
   },
   "outputs": [
    {
     "data": {
      "image/png": "[encoded data removed]",
      "text/plain": [
       "<Figure size 720x288 with 1 Axes>"
      ]
     },
     "metadata": {},
     "output_type": "display_data"
    }
   ],
   "source": [
    "# Histogram of age\n",
    "plotting_histplot(df_final[\"age\"], \"Customer's age\" )"
   ]
  },
  {
   "cell_type": "markdown",
   "metadata": {},
   "source": [
    "#### After dropping the missing value, the histogram shows a slight shift to the left in mean and median. The new average age for customers equals 54 years old, and the median is 55."
   ]
  },
  {
   "cell_type": "code",
   "execution_count": 81,
   "metadata": {},
   "outputs": [],
   "source": [
    "# Sorting data frame by age\n",
    "df_final.sort_values(\"age\", axis = 0, ascending = True,\n",
    "                    inplace = True, na_position ='last')"
   ]
  },
  {
   "cell_type": "code",
   "execution_count": 82,
   "metadata": {},
   "outputs": [],
   "source": [
    "# Filter age ranges, then replace age integer with strings\n",
    "df_final.loc[df_final.age.between(18, 29), 'age_group'] = '18-29'\n",
    "df_final.loc[df_final.age.between(30, 44), 'age_group'] = '30-44'\n",
    "df_final.loc[df_final.age.between(45, 59), 'age_group'] = '45-59'\n",
    "df_final.loc[df_final.age.between(60, 74), 'age_group'] = '60-74'\n",
    "df_final.loc[df_final.age.between(75, 101), 'age_group'] = '75-101'\n"
   ]
  },
  {
   "cell_type": "code",
   "execution_count": 83,
   "metadata": {},
   "outputs": [
    {
     "data": {
      "image/png": "[encoded data removed]",
      "text/plain": [
       "<Figure size 720x288 with 1 Axes>"
      ]
     },
     "metadata": {},
     "output_type": "display_data"
    }
   ],
   "source": [
    "# Create a count plot of ages by gender\n",
    "ax = sns.countplot( x = \"age_group\", data = df_final, hue = \"gender\")\n",
    "\n",
    "# Set title\n",
    "ax.set_title(\"The number of customers in each age group by gender\", fontsize=15)\n",
    "\n",
    "# Patches is everything inside of the chart\n",
    "for rect in ax.patches:\n",
    "    \n",
    "    # Find where everything is located\n",
    "    height = rect.get_height()\n",
    "    width = rect.get_width()\n",
    "    x = rect.get_x()\n",
    "    y = rect.get_y()\n",
    "\n",
    "    # The height of the bar is the data value and can be used as the label\n",
    "    label_text = f'{height:.0f}'\n",
    "\n",
    "    # ax.text(x, y, text)\n",
    "    label_x = x + width/2\n",
    "    label_y = y + height\n",
    "\n",
    "    # plot only when height is greater than specified value\n",
    "    if height > 0:\n",
    "        ax.text(\n",
    "        label_x,\n",
    "        label_y,\n",
    "        label_text,\n",
    "        ha='center',\n",
    "        va='center',\n",
    "        fontsize=12\n",
    "        )"
   ]
  },
  {
   "cell_type": "code",
   "execution_count": 84,
   "metadata": {
    "scrolled": true
   },
   "outputs": [
    {
     "data": {
      "image/png": "[encoded data removed]",
      "text/plain": [
       "<Figure size 720x288 with 1 Axes>"
      ]
     },
     "metadata": {},
     "output_type": "display_data"
    }
   ],
   "source": [
    "# Plot all gender average amount in years\n",
    "profile_age_year = df_final.groupby([\"member_since\", \"gender\"]).size().unstack()\n",
    "\n",
    "\n",
    "bar_stacked (profile_age_year, \"Distribution of customers by years and gender\")"
   ]
  },
  {
   "cell_type": "code",
   "execution_count": 85,
   "metadata": {
    "scrolled": true
   },
   "outputs": [
    {
     "data": {
      "image/png": "[encoded data removed]",
      "text/plain": [
       "<Figure size 324x324 with 1 Axes>"
      ]
     },
     "metadata": {},
     "output_type": "display_data"
    }
   ],
   "source": [
    "profile_year = df_final.groupby(\"member_since\").size()\n",
    "plot_pie(profile_year, profile_year.index, \"Percentage number of customers per year\")"
   ]
  },
  {
   "cell_type": "markdown",
   "metadata": {},
   "source": [
    "The best year of attracted new customers was 2017. 38% of all the customers on the dataset enrolled this year. 13805 are male, and 10941 are female."
   ]
  },
  {
   "cell_type": "code",
   "execution_count": 86,
   "metadata": {},
   "outputs": [
    {
     "data": {
      "image/png": "[encoded data removed]",
      "text/plain": [
       "<Figure size 720x288 with 1 Axes>"
      ]
     },
     "metadata": {},
     "output_type": "display_data"
    }
   ],
   "source": [
    "plotting_histplot(df_final[\"income\"], \"Customer's income\" )"
   ]
  },
  {
   "cell_type": "code",
   "execution_count": 87,
   "metadata": {},
   "outputs": [],
   "source": [
    "# Filter age ranges, then replace income integer with strings\n",
    "df_final.loc[df_final.income.between(30000.0, 49999.0), 'income_group'] = '30k-50k'\n",
    "df_final.loc[df_final.income.between(50000.0, 69999.0), 'income_group'] = '50k-70k'\n",
    "df_final.loc[df_final.income.between(70000.0, 99999.0), 'income_group'] = '70k-90k'\n",
    "df_final.loc[df_final.income.between(90000.0, 99999.0), 'income_group'] = '90k-100k'\n",
    "df_final.loc[df_final.income.between(100000.0, 120000.0), 'income_group'] = '100k-120k'"
   ]
  },
  {
   "cell_type": "code",
   "execution_count": 88,
   "metadata": {},
   "outputs": [
    {
     "data": {
      "image/png": "[encoded data removed]",
      "text/plain": [
       "<Figure size 720x288 with 1 Axes>"
      ]
     },
     "metadata": {},
     "output_type": "display_data"
    }
   ],
   "source": [
    "# Create a count plot of ages by gender\n",
    "ax = sns.countplot( x = \"income_group\", data = df_final, hue = \"gender\")\n",
    "\n",
    "# Set title\n",
    "ax.set_title(\"The average income by gender\", fontsize=15)\n",
    "\n",
    "# Patches is everything inside of the chart\n",
    "for rect in ax.patches:\n",
    "    \n",
    "    # Find where everything is located\n",
    "    height = rect.get_height()\n",
    "    width = rect.get_width()\n",
    "    x = rect.get_x()\n",
    "    y = rect.get_y()\n",
    "\n",
    "    # The height of the bar is the data value and can be used as the label\n",
    "    label_text = f'{height:.0f}'\n",
    "\n",
    "    # ax.text(x, y, text)\n",
    "    label_x = x + width/2\n",
    "    label_y = y + height\n",
    "\n",
    "    # plot only when height is greater than specified value\n",
    "    if height > 0:\n",
    "        ax.text(\n",
    "        label_x,\n",
    "        label_y,\n",
    "        label_text,\n",
    "        ha='center',\n",
    "        va='center',\n",
    "        fontsize=12\n",
    "        )"
   ]
  },
  {
   "cell_type": "markdown",
   "metadata": {},
   "source": [
    "We already know that the most successful offers are 7,6,5. \n",
    "Let's find who the customer who most loves those offers is."
   ]
  },
  {
   "cell_type": "code",
   "execution_count": 89,
   "metadata": {},
   "outputs": [],
   "source": [
    "most_success_offers = df_final.loc[df_final['offer_id'] == 7]"
   ]
  },
  {
   "cell_type": "code",
   "execution_count": 90,
   "metadata": {},
   "outputs": [
    {
     "data": {
      "text/html": [
       "<div>\n",
       "<style scoped>\n",
       "    .dataframe tbody tr th:only-of-type {\n",
       "        vertical-align: middle;\n",
       "    }\n",
       "\n",
       "    .dataframe tbody tr th {\n",
       "        vertical-align: top;\n",
       "    }\n",
       "\n",
       "    .dataframe thead th {\n",
       "        text-align: right;\n",
       "    }\n",
       "</style>\n",
       "<table border=\"1\" class=\"dataframe\">\n",
       "  <thead>\n",
       "    <tr style=\"text-align: right;\">\n",
       "      <th></th>\n",
       "      <th>customer_id</th>\n",
       "      <th>offer_id</th>\n",
       "      <th>time</th>\n",
       "      <th>offer_successful</th>\n",
       "      <th>total_amount</th>\n",
       "      <th>channels</th>\n",
       "      <th>difficulty</th>\n",
       "      <th>duration</th>\n",
       "      <th>offer_type</th>\n",
       "      <th>gender</th>\n",
       "      <th>age</th>\n",
       "      <th>member_since</th>\n",
       "      <th>income</th>\n",
       "      <th>age_group</th>\n",
       "      <th>income_group</th>\n",
       "    </tr>\n",
       "  </thead>\n",
       "  <tbody>\n",
       "    <tr>\n",
       "      <th>39542</th>\n",
       "      <td>6bd1af2841a6412ebce35605cc4c394b</td>\n",
       "      <td>7</td>\n",
       "      <td>408</td>\n",
       "      <td>1</td>\n",
       "      <td>17</td>\n",
       "      <td>[web, email, mobile, social]</td>\n",
       "      <td>10</td>\n",
       "      <td>240</td>\n",
       "      <td>discount</td>\n",
       "      <td>M</td>\n",
       "      <td>18</td>\n",
       "      <td>2015</td>\n",
       "      <td>60000</td>\n",
       "      <td>18-29</td>\n",
       "      <td>50k-70k</td>\n",
       "    </tr>\n",
       "    <tr>\n",
       "      <th>39599</th>\n",
       "      <td>8c93308bc4a243ba83f8294407894d69</td>\n",
       "      <td>7</td>\n",
       "      <td>0</td>\n",
       "      <td>0</td>\n",
       "      <td>0</td>\n",
       "      <td>[web, email, mobile, social]</td>\n",
       "      <td>10</td>\n",
       "      <td>240</td>\n",
       "      <td>discount</td>\n",
       "      <td>M</td>\n",
       "      <td>18</td>\n",
       "      <td>2018</td>\n",
       "      <td>55000</td>\n",
       "      <td>18-29</td>\n",
       "      <td>50k-70k</td>\n",
       "    </tr>\n",
       "  </tbody>\n",
       "</table>\n",
       "</div>"
      ],
      "text/plain": [
       "                            customer_id  offer_id  time  offer_successful  \\\n",
       "39542  6bd1af2841a6412ebce35605cc4c394b         7   408                 1   \n",
       "39599  8c93308bc4a243ba83f8294407894d69         7     0                 0   \n",
       "\n",
       "       total_amount                      channels  difficulty  duration  \\\n",
       "39542            17  [web, email, mobile, social]          10       240   \n",
       "39599             0  [web, email, mobile, social]          10       240   \n",
       "\n",
       "      offer_type gender  age  member_since  income age_group income_group  \n",
       "39542   discount      M   18          2015   60000     18-29      50k-70k  \n",
       "39599   discount      M   18          2018   55000     18-29      50k-70k  "
      ]
     },
     "execution_count": 90,
     "metadata": {},
     "output_type": "execute_result"
    }
   ],
   "source": [
    "most_success_offers.head(2)"
   ]
  },
  {
   "cell_type": "code",
   "execution_count": 91,
   "metadata": {},
   "outputs": [
    {
     "data": {
      "image/png": "[encoded data removed]",
      "text/plain": [
       "<Figure size 720x288 with 1 Axes>"
      ]
     },
     "metadata": {},
     "output_type": "display_data"
    }
   ],
   "source": [
    "# Create a count plot of ages by gender\n",
    "ax = sns.countplot( x = \"age_group\", data = most_success_offers, hue = \"gender\")\n",
    "\n",
    "# Set title\n",
    "ax.set_title(\"The number of customers in each age group by gender\", fontsize=15)\n",
    "\n",
    "# Patches is everything inside of the chart\n",
    "for rect in ax.patches:\n",
    "    \n",
    "    # Find where everything is located\n",
    "    height = rect.get_height()\n",
    "    width = rect.get_width()\n",
    "    x = rect.get_x()\n",
    "    y = rect.get_y()\n",
    "\n",
    "    # The height of the bar is the data value and can be used as the label\n",
    "    label_text = f'{height:.0f}'\n",
    "\n",
    "    # ax.text(x, y, text)\n",
    "    label_x = x + width/2\n",
    "    label_y = y + height\n",
    "\n",
    "    # plot only when height is greater than specified value\n",
    "    if height > 0:\n",
    "        ax.text(\n",
    "        label_x,\n",
    "        label_y,\n",
    "        label_text,\n",
    "        ha='center',\n",
    "        va='center',\n",
    "        fontsize=12\n",
    "        )"
   ]
  },
  {
   "cell_type": "code",
   "execution_count": 92,
   "metadata": {},
   "outputs": [
    {
     "data": {
      "image/png": "[encoded data removed]",
      "text/plain": [
       "<Figure size 720x288 with 1 Axes>"
      ]
     },
     "metadata": {},
     "output_type": "display_data"
    }
   ],
   "source": [
    "# Create a count plot of ages by gender\n",
    "ax = sns.countplot( x = \"member_since\", data = most_success_offers, hue = \"gender\")\n",
    "\n",
    "# Set title\n",
    "ax.set_title(\"The number of customers in each age group by gender\", fontsize=15)\n",
    "\n",
    "# Patches is everything inside of the chart\n",
    "for rect in ax.patches:\n",
    "    \n",
    "    # Find where everything is located\n",
    "    height = rect.get_height()\n",
    "    width = rect.get_width()\n",
    "    x = rect.get_x()\n",
    "    y = rect.get_y()\n",
    "\n",
    "    # The height of the bar is the data value and can be used as the label\n",
    "    label_text = f'{height:.0f}'\n",
    "\n",
    "    # ax.text(x, y, text)\n",
    "    label_x = x + width/2\n",
    "    label_y = y + height\n",
    "\n",
    "    # plot only when height is greater than specified value\n",
    "    if height > 0:\n",
    "        ax.text(\n",
    "        label_x,\n",
    "        label_y,\n",
    "        label_text,\n",
    "        ha='center',\n",
    "        va='center',\n",
    "        fontsize=12\n",
    "        )"
   ]
  },
  {
   "cell_type": "markdown",
   "metadata": {},
   "source": [
    "# Preprocessing"
   ]
  },
  {
   "cell_type": "markdown",
   "metadata": {},
   "source": [
    "#### Missing value\n",
    "One essential preprocessing step is dealing with a missing value because most machine learning algorithms can't handle any missing value and can cause errors.  We were already rid of all the missing values earlier, but it is always good to double-check it."
   ]
  },
  {
   "cell_type": "code",
   "execution_count": 93,
   "metadata": {},
   "outputs": [
    {
     "data": {
      "text/plain": [
       "customer_id         0\n",
       "offer_id            0\n",
       "time                0\n",
       "offer_successful    0\n",
       "total_amount        0\n",
       "channels            0\n",
       "difficulty          0\n",
       "duration            0\n",
       "offer_type          0\n",
       "gender              0\n",
       "age                 0\n",
       "member_since        0\n",
       "income              0\n",
       "age_group           0\n",
       "income_group        0\n",
       "dtype: int64"
      ]
     },
     "execution_count": 93,
     "metadata": {},
     "output_type": "execute_result"
    }
   ],
   "source": [
    "df_final.isna().sum()"
   ]
  },
  {
   "cell_type": "markdown",
   "metadata": {},
   "source": [
    "#### Encoding categorical variables: one-hot.\n",
    "Machine learning models in Python require numerical input. Several columns in our dataset are categorical. Because it contains variables with more than two categories, we need to apply one-hot encoding to transform those columns numerically. We will use Pandas' get_dummies() function.\n",
    "\n",
    "get_dummies() is a quick and straightforward method to encode categorical variables."
   ]
  },
  {
   "cell_type": "code",
   "execution_count": 94,
   "metadata": {},
   "outputs": [],
   "source": [
    "#Convert the list of columns into dummy variables\n",
    "list_col = [\"offer_type\", \"gender\", \"age_group\", \"income_group\",\"member_since\"]\n",
    "\n",
    "dummies = pd.get_dummies(df_final[list_col])\n",
    "\n",
    "frames = [df_final,dummies]\n",
    "\n",
    "df = pd.concat(frames, axis = 1)\n",
    "\n",
    "df = df.drop(list_col, axis = 1)\n"
   ]
  },
  {
   "cell_type": "code",
   "execution_count": 95,
   "metadata": {},
   "outputs": [],
   "source": [
    "# Convert the list of channels name into dummy variables \n",
    "channels_dummies  = df[['channels']].join(df.channels.str.join('|').str.get_dummies())\n",
    "channels_dummies = channels_dummies.drop([\"channels\"], axis =1 )\n",
    "\n",
    "df = pd.concat([df,channels_dummies], axis = 1)\n",
    "df = df.drop(\"channels\", axis =1)\n"
   ]
  },
  {
   "cell_type": "code",
   "execution_count": 96,
   "metadata": {},
   "outputs": [],
   "source": [
    "# Remove \"gender_\",\"age_group_\", \"income_group_\" from column name\n",
    "df.columns = [col.replace(\"gender_\", '') for col in df.columns]\n",
    "df.columns  = [col.replace(\"age_group_\", '') for col in df.columns]\n",
    "df.columns  = [col.replace(\"income_group_\", '') for col in df.columns]\n",
    "df.columns  = [col.replace(\"offer_type_\", '') for col in df.columns]"
   ]
  },
  {
   "cell_type": "code",
   "execution_count": 97,
   "metadata": {},
   "outputs": [],
   "source": [
    "df = df.drop(['age', 'income'], axis=1)"
   ]
  },
  {
   "cell_type": "code",
   "execution_count": 98,
   "metadata": {},
   "outputs": [
    {
     "data": {
      "text/html": [
       "<div>\n",
       "<style scoped>\n",
       "    .dataframe tbody tr th:only-of-type {\n",
       "        vertical-align: middle;\n",
       "    }\n",
       "\n",
       "    .dataframe tbody tr th {\n",
       "        vertical-align: top;\n",
       "    }\n",
       "\n",
       "    .dataframe thead th {\n",
       "        text-align: right;\n",
       "    }\n",
       "</style>\n",
       "<table border=\"1\" class=\"dataframe\">\n",
       "  <thead>\n",
       "    <tr style=\"text-align: right;\">\n",
       "      <th></th>\n",
       "      <th>customer_id</th>\n",
       "      <th>offer_id</th>\n",
       "      <th>time</th>\n",
       "      <th>offer_successful</th>\n",
       "      <th>total_amount</th>\n",
       "      <th>difficulty</th>\n",
       "      <th>duration</th>\n",
       "      <th>bogo</th>\n",
       "      <th>discount</th>\n",
       "      <th>informational</th>\n",
       "      <th>...</th>\n",
       "      <th>75-101</th>\n",
       "      <th>100k-120k</th>\n",
       "      <th>30k-50k</th>\n",
       "      <th>50k-70k</th>\n",
       "      <th>70k-90k</th>\n",
       "      <th>90k-100k</th>\n",
       "      <th>email</th>\n",
       "      <th>mobile</th>\n",
       "      <th>social</th>\n",
       "      <th>web</th>\n",
       "    </tr>\n",
       "  </thead>\n",
       "  <tbody>\n",
       "    <tr>\n",
       "      <th>27219</th>\n",
       "      <td>5cb68688b66b42db8d1985340c289eb7</td>\n",
       "      <td>2</td>\n",
       "      <td>0</td>\n",
       "      <td>0</td>\n",
       "      <td>5</td>\n",
       "      <td>10</td>\n",
       "      <td>120</td>\n",
       "      <td>1</td>\n",
       "      <td>0</td>\n",
       "      <td>0</td>\n",
       "      <td>...</td>\n",
       "      <td>0</td>\n",
       "      <td>0</td>\n",
       "      <td>1</td>\n",
       "      <td>0</td>\n",
       "      <td>0</td>\n",
       "      <td>0</td>\n",
       "      <td>1</td>\n",
       "      <td>1</td>\n",
       "      <td>1</td>\n",
       "      <td>1</td>\n",
       "    </tr>\n",
       "    <tr>\n",
       "      <th>39541</th>\n",
       "      <td>6bd1af2841a6412ebce35605cc4c394b</td>\n",
       "      <td>1</td>\n",
       "      <td>336</td>\n",
       "      <td>0</td>\n",
       "      <td>7</td>\n",
       "      <td>10</td>\n",
       "      <td>168</td>\n",
       "      <td>1</td>\n",
       "      <td>0</td>\n",
       "      <td>0</td>\n",
       "      <td>...</td>\n",
       "      <td>0</td>\n",
       "      <td>0</td>\n",
       "      <td>0</td>\n",
       "      <td>1</td>\n",
       "      <td>0</td>\n",
       "      <td>0</td>\n",
       "      <td>1</td>\n",
       "      <td>1</td>\n",
       "      <td>1</td>\n",
       "      <td>0</td>\n",
       "    </tr>\n",
       "    <tr>\n",
       "      <th>39542</th>\n",
       "      <td>6bd1af2841a6412ebce35605cc4c394b</td>\n",
       "      <td>7</td>\n",
       "      <td>408</td>\n",
       "      <td>1</td>\n",
       "      <td>17</td>\n",
       "      <td>10</td>\n",
       "      <td>240</td>\n",
       "      <td>0</td>\n",
       "      <td>1</td>\n",
       "      <td>0</td>\n",
       "      <td>...</td>\n",
       "      <td>0</td>\n",
       "      <td>0</td>\n",
       "      <td>0</td>\n",
       "      <td>1</td>\n",
       "      <td>0</td>\n",
       "      <td>0</td>\n",
       "      <td>1</td>\n",
       "      <td>1</td>\n",
       "      <td>1</td>\n",
       "      <td>1</td>\n",
       "    </tr>\n",
       "    <tr>\n",
       "      <th>17690</th>\n",
       "      <td>2ba1d65405594702af723081531011ef</td>\n",
       "      <td>1</td>\n",
       "      <td>504</td>\n",
       "      <td>1</td>\n",
       "      <td>96</td>\n",
       "      <td>10</td>\n",
       "      <td>168</td>\n",
       "      <td>1</td>\n",
       "      <td>0</td>\n",
       "      <td>0</td>\n",
       "      <td>...</td>\n",
       "      <td>0</td>\n",
       "      <td>0</td>\n",
       "      <td>1</td>\n",
       "      <td>0</td>\n",
       "      <td>0</td>\n",
       "      <td>0</td>\n",
       "      <td>1</td>\n",
       "      <td>1</td>\n",
       "      <td>1</td>\n",
       "      <td>0</td>\n",
       "    </tr>\n",
       "    <tr>\n",
       "      <th>17689</th>\n",
       "      <td>2ba1d65405594702af723081531011ef</td>\n",
       "      <td>5</td>\n",
       "      <td>408</td>\n",
       "      <td>1</td>\n",
       "      <td>94</td>\n",
       "      <td>20</td>\n",
       "      <td>240</td>\n",
       "      <td>0</td>\n",
       "      <td>1</td>\n",
       "      <td>0</td>\n",
       "      <td>...</td>\n",
       "      <td>0</td>\n",
       "      <td>0</td>\n",
       "      <td>1</td>\n",
       "      <td>0</td>\n",
       "      <td>0</td>\n",
       "      <td>0</td>\n",
       "      <td>1</td>\n",
       "      <td>0</td>\n",
       "      <td>0</td>\n",
       "      <td>1</td>\n",
       "    </tr>\n",
       "  </tbody>\n",
       "</table>\n",
       "<p>5 rows × 27 columns</p>\n",
       "</div>"
      ],
      "text/plain": [
       "                            customer_id  offer_id  time  offer_successful  \\\n",
       "27219  5cb68688b66b42db8d1985340c289eb7         2     0                 0   \n",
       "39541  6bd1af2841a6412ebce35605cc4c394b         1   336                 0   \n",
       "39542  6bd1af2841a6412ebce35605cc4c394b         7   408                 1   \n",
       "17690  2ba1d65405594702af723081531011ef         1   504                 1   \n",
       "17689  2ba1d65405594702af723081531011ef         5   408                 1   \n",
       "\n",
       "       total_amount  difficulty  duration  bogo  discount  informational  ...  \\\n",
       "27219             5          10       120     1         0              0  ...   \n",
       "39541             7          10       168     1         0              0  ...   \n",
       "39542            17          10       240     0         1              0  ...   \n",
       "17690            96          10       168     1         0              0  ...   \n",
       "17689            94          20       240     0         1              0  ...   \n",
       "\n",
       "       75-101  100k-120k  30k-50k  50k-70k  70k-90k  90k-100k  email  mobile  \\\n",
       "27219       0          0        1        0        0         0      1       1   \n",
       "39541       0          0        0        1        0         0      1       1   \n",
       "39542       0          0        0        1        0         0      1       1   \n",
       "17690       0          0        1        0        0         0      1       1   \n",
       "17689       0          0        1        0        0         0      1       0   \n",
       "\n",
       "       social  web  \n",
       "27219       1    1  \n",
       "39541       1    0  \n",
       "39542       1    1  \n",
       "17690       1    0  \n",
       "17689       0    1  \n",
       "\n",
       "[5 rows x 27 columns]"
      ]
     },
     "execution_count": 98,
     "metadata": {},
     "output_type": "execute_result"
    }
   ],
   "source": [
    "df.head()"
   ]
  },
  {
   "cell_type": "markdown",
   "metadata": {},
   "source": [
    "#### Feature selection"
   ]
  },
  {
   "cell_type": "markdown",
   "metadata": {},
   "source": [
    "The main idea of feature selection is to exclude unnecessary features from the dataset.\n",
    "\n",
    "Typically, unnecessary features are redundant. We don't include \"received\", \"viewed\", \"completed,\" and \"transaction\" features in the modeling process because we already have accumulated values in the \"offer_successful\" column.  If we include those columns, we will end up duplicating the \"offer_successful\"  values, and it will be redundant.\n",
    "\n",
    "Another technique we will use to detect what features to drop is a statistical correlation. When features are correlated,  they move together in one direction, which could introduce bias into the model. "
   ]
  },
  {
   "cell_type": "markdown",
   "metadata": {},
   "source": [
    "#### Correlations between the numerical variables\n",
    "Usually, we want to avoid using variables with strong correlations with each other. It helps to keep the model simple and reduce the risk of overfitting.\n",
    "\n",
    "#### To find out do we have any strongly correlated features, we will use the built-in _corr()_ function."
   ]
  },
  {
   "cell_type": "code",
   "execution_count": 99,
   "metadata": {
    "scrolled": false
   },
   "outputs": [
    {
     "data": {
      "text/html": [
       "<style  type=\"text/css\" >\n",
       "#T_ef49d_row0_col0,#T_ef49d_row1_col1,#T_ef49d_row2_col2,#T_ef49d_row3_col3,#T_ef49d_row4_col4,#T_ef49d_row5_col5,#T_ef49d_row6_col6,#T_ef49d_row7_col7{\n",
       "            background-color:  #023858;\n",
       "            color:  #f1f1f1;\n",
       "        }#T_ef49d_row0_col1{\n",
       "            background-color:  #e0deed;\n",
       "            color:  #000000;\n",
       "        }#T_ef49d_row0_col2{\n",
       "            background-color:  #eee8f3;\n",
       "            color:  #000000;\n",
       "        }#T_ef49d_row0_col3,#T_ef49d_row0_col4,#T_ef49d_row1_col6,#T_ef49d_row3_col0,#T_ef49d_row4_col0,#T_ef49d_row5_col3,#T_ef49d_row5_col4,#T_ef49d_row6_col0,#T_ef49d_row6_col1,#T_ef49d_row6_col2,#T_ef49d_row6_col3,#T_ef49d_row6_col4,#T_ef49d_row6_col5,#T_ef49d_row6_col7,#T_ef49d_row7_col0,#T_ef49d_row7_col3,#T_ef49d_row7_col4{\n",
       "            background-color:  #fff7fb;\n",
       "            color:  #000000;\n",
       "        }#T_ef49d_row0_col5{\n",
       "            background-color:  #fef6fa;\n",
       "            color:  #000000;\n",
       "        }#T_ef49d_row0_col6,#T_ef49d_row3_col6,#T_ef49d_row4_col6{\n",
       "            background-color:  #eae6f1;\n",
       "            color:  #000000;\n",
       "        }#T_ef49d_row0_col7,#T_ef49d_row3_col7,#T_ef49d_row4_col7{\n",
       "            background-color:  #fbf4f9;\n",
       "            color:  #000000;\n",
       "        }#T_ef49d_row1_col0,#T_ef49d_row2_col6{\n",
       "            background-color:  #f8f1f8;\n",
       "            color:  #000000;\n",
       "        }#T_ef49d_row1_col2{\n",
       "            background-color:  #8eb3d5;\n",
       "            color:  #000000;\n",
       "        }#T_ef49d_row1_col3{\n",
       "            background-color:  #d4d4e8;\n",
       "            color:  #000000;\n",
       "        }#T_ef49d_row1_col4{\n",
       "            background-color:  #c0c9e2;\n",
       "            color:  #000000;\n",
       "        }#T_ef49d_row1_col5{\n",
       "            background-color:  #f4edf6;\n",
       "            color:  #000000;\n",
       "        }#T_ef49d_row1_col7{\n",
       "            background-color:  #e3e0ee;\n",
       "            color:  #000000;\n",
       "        }#T_ef49d_row2_col0{\n",
       "            background-color:  #fcf4fa;\n",
       "            color:  #000000;\n",
       "        }#T_ef49d_row2_col1{\n",
       "            background-color:  #84b0d3;\n",
       "            color:  #000000;\n",
       "        }#T_ef49d_row2_col3{\n",
       "            background-color:  #ede8f3;\n",
       "            color:  #000000;\n",
       "        }#T_ef49d_row2_col4{\n",
       "            background-color:  #e4e1ef;\n",
       "            color:  #000000;\n",
       "        }#T_ef49d_row2_col5{\n",
       "            background-color:  #f5eef6;\n",
       "            color:  #000000;\n",
       "        }#T_ef49d_row2_col7{\n",
       "            background-color:  #dad9ea;\n",
       "            color:  #000000;\n",
       "        }#T_ef49d_row3_col1{\n",
       "            background-color:  #b4c4df;\n",
       "            color:  #000000;\n",
       "        }#T_ef49d_row3_col2{\n",
       "            background-color:  #dbdaeb;\n",
       "            color:  #000000;\n",
       "        }#T_ef49d_row3_col4,#T_ef49d_row4_col3{\n",
       "            background-color:  #05659f;\n",
       "            color:  #f1f1f1;\n",
       "        }#T_ef49d_row3_col5,#T_ef49d_row4_col5,#T_ef49d_row5_col0{\n",
       "            background-color:  #fef6fb;\n",
       "            color:  #000000;\n",
       "        }#T_ef49d_row4_col1{\n",
       "            background-color:  #9fbad9;\n",
       "            color:  #000000;\n",
       "        }#T_ef49d_row4_col2{\n",
       "            background-color:  #d2d3e7;\n",
       "            color:  #000000;\n",
       "        }#T_ef49d_row5_col1{\n",
       "            background-color:  #dddbec;\n",
       "            color:  #000000;\n",
       "        }#T_ef49d_row5_col2{\n",
       "            background-color:  #e7e3f0;\n",
       "            color:  #000000;\n",
       "        }#T_ef49d_row5_col6{\n",
       "            background-color:  #ece7f2;\n",
       "            color:  #000000;\n",
       "        }#T_ef49d_row5_col7{\n",
       "            background-color:  #b8c6e0;\n",
       "            color:  #000000;\n",
       "        }#T_ef49d_row7_col1,#T_ef49d_row7_col2{\n",
       "            background-color:  #cdd0e5;\n",
       "            color:  #000000;\n",
       "        }#T_ef49d_row7_col5{\n",
       "            background-color:  #bcc7e1;\n",
       "            color:  #000000;\n",
       "        }#T_ef49d_row7_col6{\n",
       "            background-color:  #eee9f3;\n",
       "            color:  #000000;\n",
       "        }</style><table id=\"T_ef49d_\" ><thead>    <tr>        <th class=\"blank level0\" ></th>        <th class=\"col_heading level0 col0\" >time</th>        <th class=\"col_heading level0 col1\" >offer_successful</th>        <th class=\"col_heading level0 col2\" >total_amount</th>        <th class=\"col_heading level0 col3\" >difficulty</th>        <th class=\"col_heading level0 col4\" >duration</th>        <th class=\"col_heading level0 col5\" >age</th>        <th class=\"col_heading level0 col6\" >member_since</th>        <th class=\"col_heading level0 col7\" >income</th>    </tr></thead><tbody>\n",
       "                <tr>\n",
       "                        <th id=\"T_ef49d_level0_row0\" class=\"row_heading level0 row0\" >time</th>\n",
       "                        <td id=\"T_ef49d_row0_col0\" class=\"data row0 col0\" >1.000000</td>\n",
       "                        <td id=\"T_ef49d_row0_col1\" class=\"data row0 col1\" >0.046944</td>\n",
       "                        <td id=\"T_ef49d_row0_col2\" class=\"data row0 col2\" >0.019434</td>\n",
       "                        <td id=\"T_ef49d_row0_col3\" class=\"data row0 col3\" >-0.003959</td>\n",
       "                        <td id=\"T_ef49d_row0_col4\" class=\"data row0 col4\" >-0.003874</td>\n",
       "                        <td id=\"T_ef49d_row0_col5\" class=\"data row0 col5\" >0.001255</td>\n",
       "                        <td id=\"T_ef49d_row0_col6\" class=\"data row0 col6\" >-0.000635</td>\n",
       "                        <td id=\"T_ef49d_row0_col7\" class=\"data row0 col7\" >-0.000615</td>\n",
       "            </tr>\n",
       "            <tr>\n",
       "                        <th id=\"T_ef49d_level0_row1\" class=\"row_heading level0 row1\" >offer_successful</th>\n",
       "                        <td id=\"T_ef49d_row1_col0\" class=\"data row1 col0\" >0.046944</td>\n",
       "                        <td id=\"T_ef49d_row1_col1\" class=\"data row1 col1\" >1.000000</td>\n",
       "                        <td id=\"T_ef49d_row1_col2\" class=\"data row1 col2\" >0.374802</td>\n",
       "                        <td id=\"T_ef49d_row1_col3\" class=\"data row1 col3\" >0.229377</td>\n",
       "                        <td id=\"T_ef49d_row1_col4\" class=\"data row1 col4\" >0.294742</td>\n",
       "                        <td id=\"T_ef49d_row1_col5\" class=\"data row1 col5\" >0.066232</td>\n",
       "                        <td id=\"T_ef49d_row1_col6\" class=\"data row1 col6\" >-0.157677</td>\n",
       "                        <td id=\"T_ef49d_row1_col7\" class=\"data row1 col7\" >0.143236</td>\n",
       "            </tr>\n",
       "            <tr>\n",
       "                        <th id=\"T_ef49d_level0_row2\" class=\"row_heading level0 row2\" >total_amount</th>\n",
       "                        <td id=\"T_ef49d_row2_col0\" class=\"data row2 col0\" >0.019434</td>\n",
       "                        <td id=\"T_ef49d_row2_col1\" class=\"data row2 col1\" >0.374802</td>\n",
       "                        <td id=\"T_ef49d_row2_col2\" class=\"data row2 col2\" >1.000000</td>\n",
       "                        <td id=\"T_ef49d_row2_col3\" class=\"data row2 col3\" >0.116274</td>\n",
       "                        <td id=\"T_ef49d_row2_col4\" class=\"data row2 col4\" >0.160200</td>\n",
       "                        <td id=\"T_ef49d_row2_col5\" class=\"data row2 col5\" >0.060383</td>\n",
       "                        <td id=\"T_ef49d_row2_col6\" class=\"data row2 col6\" >-0.107331</td>\n",
       "                        <td id=\"T_ef49d_row2_col7\" class=\"data row2 col7\" >0.181911</td>\n",
       "            </tr>\n",
       "            <tr>\n",
       "                        <th id=\"T_ef49d_level0_row3\" class=\"row_heading level0 row3\" >difficulty</th>\n",
       "                        <td id=\"T_ef49d_row3_col0\" class=\"data row3 col0\" >-0.003959</td>\n",
       "                        <td id=\"T_ef49d_row3_col1\" class=\"data row3 col1\" >0.229377</td>\n",
       "                        <td id=\"T_ef49d_row3_col2\" class=\"data row3 col2\" >0.116274</td>\n",
       "                        <td id=\"T_ef49d_row3_col3\" class=\"data row3 col3\" >1.000000</td>\n",
       "                        <td id=\"T_ef49d_row3_col4\" class=\"data row3 col4\" >0.809257</td>\n",
       "                        <td id=\"T_ef49d_row3_col5\" class=\"data row3 col5\" >-0.004088</td>\n",
       "                        <td id=\"T_ef49d_row3_col6\" class=\"data row3 col6\" >-0.000513</td>\n",
       "                        <td id=\"T_ef49d_row3_col7\" class=\"data row3 col7\" >-0.000858</td>\n",
       "            </tr>\n",
       "            <tr>\n",
       "                        <th id=\"T_ef49d_level0_row4\" class=\"row_heading level0 row4\" >duration</th>\n",
       "                        <td id=\"T_ef49d_row4_col0\" class=\"data row4 col0\" >-0.003874</td>\n",
       "                        <td id=\"T_ef49d_row4_col1\" class=\"data row4 col1\" >0.294742</td>\n",
       "                        <td id=\"T_ef49d_row4_col2\" class=\"data row4 col2\" >0.160200</td>\n",
       "                        <td id=\"T_ef49d_row4_col3\" class=\"data row4 col3\" >0.809257</td>\n",
       "                        <td id=\"T_ef49d_row4_col4\" class=\"data row4 col4\" >1.000000</td>\n",
       "                        <td id=\"T_ef49d_row4_col5\" class=\"data row4 col5\" >-0.003150</td>\n",
       "                        <td id=\"T_ef49d_row4_col6\" class=\"data row4 col6\" >-0.000641</td>\n",
       "                        <td id=\"T_ef49d_row4_col7\" class=\"data row4 col7\" >-0.002406</td>\n",
       "            </tr>\n",
       "            <tr>\n",
       "                        <th id=\"T_ef49d_level0_row5\" class=\"row_heading level0 row5\" >age</th>\n",
       "                        <td id=\"T_ef49d_row5_col0\" class=\"data row5 col0\" >0.001255</td>\n",
       "                        <td id=\"T_ef49d_row5_col1\" class=\"data row5 col1\" >0.066232</td>\n",
       "                        <td id=\"T_ef49d_row5_col2\" class=\"data row5 col2\" >0.060383</td>\n",
       "                        <td id=\"T_ef49d_row5_col3\" class=\"data row5 col3\" >-0.004088</td>\n",
       "                        <td id=\"T_ef49d_row5_col4\" class=\"data row5 col4\" >-0.003150</td>\n",
       "                        <td id=\"T_ef49d_row5_col5\" class=\"data row5 col5\" >1.000000</td>\n",
       "                        <td id=\"T_ef49d_row5_col6\" class=\"data row5 col6\" >-0.010001</td>\n",
       "                        <td id=\"T_ef49d_row5_col7\" class=\"data row5 col7\" >0.305156</td>\n",
       "            </tr>\n",
       "            <tr>\n",
       "                        <th id=\"T_ef49d_level0_row6\" class=\"row_heading level0 row6\" >member_since</th>\n",
       "                        <td id=\"T_ef49d_row6_col0\" class=\"data row6 col0\" >-0.000635</td>\n",
       "                        <td id=\"T_ef49d_row6_col1\" class=\"data row6 col1\" >-0.157677</td>\n",
       "                        <td id=\"T_ef49d_row6_col2\" class=\"data row6 col2\" >-0.107331</td>\n",
       "                        <td id=\"T_ef49d_row6_col3\" class=\"data row6 col3\" >-0.000513</td>\n",
       "                        <td id=\"T_ef49d_row6_col4\" class=\"data row6 col4\" >-0.000641</td>\n",
       "                        <td id=\"T_ef49d_row6_col5\" class=\"data row6 col5\" >-0.010001</td>\n",
       "                        <td id=\"T_ef49d_row6_col6\" class=\"data row6 col6\" >1.000000</td>\n",
       "                        <td id=\"T_ef49d_row6_col7\" class=\"data row6 col7\" >-0.026660</td>\n",
       "            </tr>\n",
       "            <tr>\n",
       "                        <th id=\"T_ef49d_level0_row7\" class=\"row_heading level0 row7\" >income</th>\n",
       "                        <td id=\"T_ef49d_row7_col0\" class=\"data row7 col0\" >-0.000615</td>\n",
       "                        <td id=\"T_ef49d_row7_col1\" class=\"data row7 col1\" >0.143236</td>\n",
       "                        <td id=\"T_ef49d_row7_col2\" class=\"data row7 col2\" >0.181911</td>\n",
       "                        <td id=\"T_ef49d_row7_col3\" class=\"data row7 col3\" >-0.000858</td>\n",
       "                        <td id=\"T_ef49d_row7_col4\" class=\"data row7 col4\" >-0.002406</td>\n",
       "                        <td id=\"T_ef49d_row7_col5\" class=\"data row7 col5\" >0.305156</td>\n",
       "                        <td id=\"T_ef49d_row7_col6\" class=\"data row7 col6\" >-0.026660</td>\n",
       "                        <td id=\"T_ef49d_row7_col7\" class=\"data row7 col7\" >1.000000</td>\n",
       "            </tr>\n",
       "    </tbody></table>"
      ],
      "text/plain": [
       "<pandas.io.formats.style.Styler at 0x7faffb1ee850>"
      ]
     },
     "execution_count": 99,
     "metadata": {},
     "output_type": "execute_result"
    }
   ],
   "source": [
    "# Create a correlation matrix\n",
    "var = df_final.drop([\"offer_id\",\"channels\"], axis = 1 )\n",
    "corr_metrics = var.corr()\n",
    "corr_metrics.style.background_gradient()\n"
   ]
  },
  {
   "cell_type": "markdown",
   "metadata": {},
   "source": [
    "#### We can see that \"duration\" and \"difficulty\"  have a pretty strong correlation of 0.80, which means we won't use that features in the modeling."
   ]
  },
  {
   "cell_type": "code",
   "execution_count": 100,
   "metadata": {},
   "outputs": [],
   "source": [
    "# Define our features \n",
    "X = df.drop([\"offer_successful\",\"customer_id\", \"offer_id\",\n",
    "             \"duration\",\"difficulty\",\"email\", \"social\",\n",
    "             \"informational\",\"O\",\"100k-120k\",\"70k-90k\", \n",
    "             \"90k-100k\"], axis = 1)\n",
    "\n",
    "# Define our labels\n",
    "y = df[\"offer_successful\"]\n"
   ]
  },
  {
   "cell_type": "markdown",
   "metadata": {},
   "source": [
    "##  Building models"
   ]
  },
  {
   "cell_type": "markdown",
   "metadata": {},
   "source": [
    "#### Finding the best model\n",
    "I have prepared a Pipeline for each model it helps to find the best model. To evaluate models, I used the following metrics:  accuracy, precision, recall, f1-score. We are going to test fit four different models on the dataset. The  preferred models: \n",
    "- Logistic Regression\n",
    "- K-Nearest Neighbors\n",
    "- Decision Tree Classifier\n",
    "- Random Forest: ensemble bagging classifier"
   ]
  },
  {
   "cell_type": "code",
   "execution_count": 101,
   "metadata": {},
   "outputs": [
    {
     "data": {
      "text/plain": [
       "(66501, 15)"
      ]
     },
     "execution_count": 101,
     "metadata": {},
     "output_type": "execute_result"
    }
   ],
   "source": [
    "X.shape"
   ]
  },
  {
   "cell_type": "code",
   "execution_count": 102,
   "metadata": {},
   "outputs": [
    {
     "data": {
      "text/html": [
       "<div>\n",
       "<style scoped>\n",
       "    .dataframe tbody tr th:only-of-type {\n",
       "        vertical-align: middle;\n",
       "    }\n",
       "\n",
       "    .dataframe tbody tr th {\n",
       "        vertical-align: top;\n",
       "    }\n",
       "\n",
       "    .dataframe thead th {\n",
       "        text-align: right;\n",
       "    }\n",
       "</style>\n",
       "<table border=\"1\" class=\"dataframe\">\n",
       "  <thead>\n",
       "    <tr style=\"text-align: right;\">\n",
       "      <th></th>\n",
       "      <th>time</th>\n",
       "      <th>total_amount</th>\n",
       "      <th>bogo</th>\n",
       "      <th>discount</th>\n",
       "      <th>F</th>\n",
       "      <th>M</th>\n",
       "      <th>18-29</th>\n",
       "      <th>30-44</th>\n",
       "      <th>45-59</th>\n",
       "      <th>60-74</th>\n",
       "      <th>75-101</th>\n",
       "      <th>30k-50k</th>\n",
       "      <th>50k-70k</th>\n",
       "      <th>mobile</th>\n",
       "      <th>web</th>\n",
       "    </tr>\n",
       "  </thead>\n",
       "  <tbody>\n",
       "    <tr>\n",
       "      <th>27219</th>\n",
       "      <td>0</td>\n",
       "      <td>5</td>\n",
       "      <td>1</td>\n",
       "      <td>0</td>\n",
       "      <td>0</td>\n",
       "      <td>1</td>\n",
       "      <td>1</td>\n",
       "      <td>0</td>\n",
       "      <td>0</td>\n",
       "      <td>0</td>\n",
       "      <td>0</td>\n",
       "      <td>1</td>\n",
       "      <td>0</td>\n",
       "      <td>1</td>\n",
       "      <td>1</td>\n",
       "    </tr>\n",
       "    <tr>\n",
       "      <th>39541</th>\n",
       "      <td>336</td>\n",
       "      <td>7</td>\n",
       "      <td>1</td>\n",
       "      <td>0</td>\n",
       "      <td>0</td>\n",
       "      <td>1</td>\n",
       "      <td>1</td>\n",
       "      <td>0</td>\n",
       "      <td>0</td>\n",
       "      <td>0</td>\n",
       "      <td>0</td>\n",
       "      <td>0</td>\n",
       "      <td>1</td>\n",
       "      <td>1</td>\n",
       "      <td>0</td>\n",
       "    </tr>\n",
       "    <tr>\n",
       "      <th>39542</th>\n",
       "      <td>408</td>\n",
       "      <td>17</td>\n",
       "      <td>0</td>\n",
       "      <td>1</td>\n",
       "      <td>0</td>\n",
       "      <td>1</td>\n",
       "      <td>1</td>\n",
       "      <td>0</td>\n",
       "      <td>0</td>\n",
       "      <td>0</td>\n",
       "      <td>0</td>\n",
       "      <td>0</td>\n",
       "      <td>1</td>\n",
       "      <td>1</td>\n",
       "      <td>1</td>\n",
       "    </tr>\n",
       "    <tr>\n",
       "      <th>17690</th>\n",
       "      <td>504</td>\n",
       "      <td>96</td>\n",
       "      <td>1</td>\n",
       "      <td>0</td>\n",
       "      <td>0</td>\n",
       "      <td>1</td>\n",
       "      <td>1</td>\n",
       "      <td>0</td>\n",
       "      <td>0</td>\n",
       "      <td>0</td>\n",
       "      <td>0</td>\n",
       "      <td>1</td>\n",
       "      <td>0</td>\n",
       "      <td>1</td>\n",
       "      <td>0</td>\n",
       "    </tr>\n",
       "    <tr>\n",
       "      <th>17689</th>\n",
       "      <td>408</td>\n",
       "      <td>94</td>\n",
       "      <td>0</td>\n",
       "      <td>1</td>\n",
       "      <td>0</td>\n",
       "      <td>1</td>\n",
       "      <td>1</td>\n",
       "      <td>0</td>\n",
       "      <td>0</td>\n",
       "      <td>0</td>\n",
       "      <td>0</td>\n",
       "      <td>1</td>\n",
       "      <td>0</td>\n",
       "      <td>0</td>\n",
       "      <td>1</td>\n",
       "    </tr>\n",
       "  </tbody>\n",
       "</table>\n",
       "</div>"
      ],
      "text/plain": [
       "       time  total_amount  bogo  discount  F  M  18-29  30-44  45-59  60-74  \\\n",
       "27219     0             5     1         0  0  1      1      0      0      0   \n",
       "39541   336             7     1         0  0  1      1      0      0      0   \n",
       "39542   408            17     0         1  0  1      1      0      0      0   \n",
       "17690   504            96     1         0  0  1      1      0      0      0   \n",
       "17689   408            94     0         1  0  1      1      0      0      0   \n",
       "\n",
       "       75-101  30k-50k  50k-70k  mobile  web  \n",
       "27219       0        1        0       1    1  \n",
       "39541       0        0        1       1    0  \n",
       "39542       0        0        1       1    1  \n",
       "17690       0        1        0       1    0  \n",
       "17689       0        1        0       0    1  "
      ]
     },
     "execution_count": 102,
     "metadata": {},
     "output_type": "execute_result"
    }
   ],
   "source": [
    "X.head()"
   ]
  },
  {
   "cell_type": "code",
   "execution_count": 103,
   "metadata": {},
   "outputs": [
    {
     "data": {
      "image/png": "[encoded data removed]",
      "text/plain": [
       "<Figure size 720x288 with 1 Axes>"
      ]
     },
     "metadata": {},
     "output_type": "display_data"
    }
   ],
   "source": [
    "countplot_v(df_final[\"offer_successful\"], \"Distribution of successful and unsuccessful offers\")"
   ]
  },
  {
   "cell_type": "markdown",
   "metadata": {},
   "source": [
    "#### The data is slightly biased towards more number of unsuccessful offers (0). Because of that,  we use \"stratify\" when splitting the data into train and test sets.\n",
    "\n",
    "Stratified is a good technique for sampling more accurately when the data is imbalanced, considering the distribution of features in the dataset."
   ]
  },
  {
   "cell_type": "code",
   "execution_count": 104,
   "metadata": {},
   "outputs": [],
   "source": [
    "X_train, X_test, y_train, y_test = train_test_split(X, y, test_size=0.2, random_state=42, stratify=y)"
   ]
  },
  {
   "cell_type": "markdown",
   "metadata": {},
   "source": [
    "#### Several features have numeric data and input values with differing scales; we have to scale those columns. In this case (project), I use the Data Standardization method. \n",
    "\n",
    "Standardizing involves rescaling the distribution of values in the way the mean of values is 0, and the standard deviation is 1. \n",
    "\n",
    "Standardization finds the mean of the data and centers distribution around it, calculating the number of standard deviations away from the mean each point is. These values are considered as new values. And this centers the data around 0 but technically has no limit to the maximum and minimum values.\n",
    "\n",
    "But we have to be careful if we standardize the whole training dataset and then use cross-validation in grid search to evaluate the model; we've got data leakage. Data leakage is dangerous because the algorithm is already familiar with them; thus, it will worsen with new data. \n",
    "\n",
    "The solution here is to ensure that the standard scaler runs only on the training set and not the validation set within each fold of cross-validation. \n",
    "\n",
    "\n",
    "#### Pipelines allow us to do just this. \n",
    "In that case, standardization doesn't happen until we run a grid search\n",
    "because the rescaling is included in the pipeline.\n",
    "\n",
    "Preventing data leakage into the validation set helps that the rescaling is done only on the trained data for each fold of cross-validation."
   ]
  },
  {
   "cell_type": "markdown",
   "metadata": {},
   "source": [
    "Overfitting the dataset is a general problem in ML. When a model has learned the data too closely, it has the best achievements on the trained dataset but fails with new data. Too many features are one of the problems of overfitting. \n",
    "\n",
    "Cross-validation is a vital step in evaluating a model. It maximizes the amount of data used to train the model, as, during training, the model is trained and tested on all of the available data.\n",
    "\n",
    "Cross-validation is essential but do not forget that the more folds you use, the more computationally expensive it becomes; thus, we will only 5."
   ]
  },
  {
   "cell_type": "markdown",
   "metadata": {},
   "source": [
    "References: https://machinelearningmastery.com/standardscaler-and-minmaxscaler-transforms-in-python/"
   ]
  },
  {
   "cell_type": "markdown",
   "metadata": {},
   "source": [
    "#### I built a Pipeline for each ML classifier, evaluated metrics, and compared them to each other."
   ]
  },
  {
   "cell_type": "markdown",
   "metadata": {},
   "source": [
    "### LogisticRegression"
   ]
  },
  {
   "cell_type": "markdown",
   "metadata": {},
   "source": [
    "Logistic regression uses as the logistic function to compute the odds that a given data point relates to a given class."
   ]
  },
  {
   "cell_type": "code",
   "execution_count": 118,
   "metadata": {
    "scrolled": true
   },
   "outputs": [
    {
     "name": "stdout",
     "output_type": "stream",
     "text": [
      "Logistic Regression model\n",
      "-------------------\n",
      "Classification report: \n",
      "               precision    recall  f1-score   support\n",
      "\n",
      "           0       0.85      0.92      0.89      7028\n",
      "           1       0.90      0.82      0.86      6273\n",
      "\n",
      "    accuracy                           0.87     13301\n",
      "   macro avg       0.88      0.87      0.87     13301\n",
      "weighted avg       0.88      0.87      0.87     13301\n",
      "\n",
      "-------------------\n",
      "Confusion matrix:\n",
      " [[6466  562]\n",
      " [1112 5161]]\n",
      "-------------------\n",
      "Accuracy score:\n",
      " 0.8741448011427713\n",
      "Tuned Model Parameters: {'logreg__n_jobs': -1}\n"
     ]
    }
   ],
   "source": [
    "# Setup the pipeline\n",
    "steps_logreg = [(\"scaler\", StandardScaler()),\n",
    "               (\"logreg\", LogisticRegression())]\n",
    "\n",
    "pipeline_logreg = Pipeline(steps_logreg)\n",
    "\n",
    "# Specify the hyperparameter space\n",
    "parameters_logreg = {\"logreg__n_jobs\": [-1, None]}\n",
    "\n",
    "# Instantiate the GridSearchCV object: cv\n",
    "cv_logreg = GridSearchCV(pipeline_logreg, parameters_logreg, cv = 5)\n",
    "\n",
    "# Fit to the training set\n",
    "cv_logreg.fit(X_train, y_train)\n",
    "\n",
    "# Predict the labels of the test set: y_pred\n",
    "y_pred_logreg = cv_logreg.predict(X_test)\n",
    "\n",
    "\n",
    "# Print metrics for Logistic Regression\n",
    "print(f\"Logistic Regression model\")\n",
    "print(\"-------------------\")\n",
    "print(f\"Classification report: \\n {classification_report(y_test,y_pred_logreg)}\")\n",
    "print(\"-------------------\")\n",
    "print(f\"Confusion matrix:\\n {confusion_matrix(y_test, y_pred_logreg)}\")\n",
    "print(\"-------------------\")\n",
    "print(f\"Accuracy score:\\n {accuracy_score(y_test, y_pred_logreg)}\")\n",
    "print(f\"Tuned Model Parameters: {cv_logreg.best_params_}\")"
   ]
  },
  {
   "cell_type": "markdown",
   "metadata": {},
   "source": [
    "Tuned Model Parameters: {'logreg__n_jobs': -1}. -1 means using all processors.\n",
    "By the default it is None, but we can see -1 works better."
   ]
  },
  {
   "cell_type": "code",
   "execution_count": 106,
   "metadata": {},
   "outputs": [
    {
     "data": {
      "image/png": "[encoded data removed]",
      "text/plain": [
       "<Figure size 720x288 with 2 Axes>"
      ]
     },
     "metadata": {},
     "output_type": "display_data"
    }
   ],
   "source": [
    "# Plot the confusion matrix\n",
    "con_mat_logreg = confusion_matrix(y_test, y_pred_logreg)\n",
    "sns.heatmap(con_mat_logreg /np.sum(con_mat_logreg ), annot=True, \n",
    "            fmt='.2%', cmap='Blues');\n"
   ]
  },
  {
   "cell_type": "code",
   "execution_count": 107,
   "metadata": {
    "scrolled": false
   },
   "outputs": [
    {
     "data": {
      "image/png": "[encoded data removed]",
      "text/plain": [
       "<Figure size 720x288 with 1 Axes>"
      ]
     },
     "metadata": {},
     "output_type": "display_data"
    }
   ],
   "source": [
    "# Compute predicted probabilities: y_pred_prob_logreg\n",
    "y_pred_prob_logreg = cv_logreg.predict_proba(X_test)[:,1]\n",
    "\n",
    "# Generate ROC curve values: fpr, tpr, thresholds\n",
    "fpr,tpr, thresholds = roc_curve(y_test, y_pred_prob_logreg)\n",
    "\n",
    "# Plot ROC curve\n",
    "plt.plot([0, 1], [0, 1], 'k--')\n",
    "plt.plot(fpr,tpr)\n",
    "plt.xlabel('False Positive Rate')\n",
    "plt.ylabel('True Positive Rate')\n",
    "plt.title('ROC Curve')\n",
    "plt.show()"
   ]
  },
  {
   "cell_type": "markdown",
   "metadata": {},
   "source": [
    "Even though our logistic regression performance is good, we will not stop here. \n",
    "\n",
    "We can't immediately assume that it is the best model for our data, and we have to make sure we have done an excellent job.  Therefore, It's always a valuable idea to test a few other algorithms and find the best one for data."
   ]
  },
  {
   "cell_type": "markdown",
   "metadata": {},
   "source": [
    "### KNeighborsClassifier"
   ]
  },
  {
   "cell_type": "markdown",
   "metadata": {},
   "source": [
    "K-Nearest Neighbors (KNN) is a classification algorithm. The basic idea is that data points with related attributes manage to fall into similar categories."
   ]
  },
  {
   "cell_type": "code",
   "execution_count": 108,
   "metadata": {
    "scrolled": true
   },
   "outputs": [
    {
     "name": "stdout",
     "output_type": "stream",
     "text": [
      "K-Neighbors Classifier model\n",
      "-------------------\n",
      "Classification report: \n",
      "               precision    recall  f1-score   support\n",
      "\n",
      "           0       0.90      0.88      0.89      7028\n",
      "           1       0.87      0.90      0.88      6273\n",
      "\n",
      "    accuracy                           0.89     13301\n",
      "   macro avg       0.89      0.89      0.89     13301\n",
      "weighted avg       0.89      0.89      0.89     13301\n",
      "\n",
      "-------------------\n",
      "Confusion matrix:\n",
      " [[6215  813]\n",
      " [ 654 5619]]\n",
      "-------------------\n",
      "Accuracy score:\n",
      " 0.889707540786407\n",
      "Tuned Model Parameters: {'knn__metric': 'manhattan', 'knn__n_neighbors': 5, 'knn__weights': 'uniform'}\n"
     ]
    }
   ],
   "source": [
    "# Setup the pipeline\n",
    "steps_knn = [(\"scaler\", StandardScaler()),\n",
    "             (\"knn\", KNeighborsClassifier())]\n",
    "\n",
    "pipeline_knn = Pipeline(steps_knn)\n",
    "\n",
    "# Specify the hyperparameter space\n",
    "parameters_knn = { \"knn__n_neighbors\": [1,5],\n",
    "                   \"knn__weights\" : [\"uniform\",\"distance\"],\n",
    "                   \"knn__metric\" : [\"minkowski\",\"euclidean\",\"manhattan\"]}\n",
    "\n",
    "# Instantiate the GridSearchCV object: cv\n",
    "cv_knn = GridSearchCV(pipeline_knn, parameters_knn, cv = 5)\n",
    "\n",
    "# Fit to the training set\n",
    "cv_knn.fit(X_train, y_train)\n",
    "\n",
    "# Predict the labels of the test set: y_pred\n",
    "y_pred_knn = cv_knn.predict(X_test)\n",
    "\n",
    "#probs_knn = knn.predict_proba(X_test)\n",
    "\n",
    "# Print metrics for K-Neighbors Classifier\n",
    "print(f\"K-Neighbors Classifier model\")\n",
    "print(\"-------------------\")\n",
    "print(f\"Classification report: \\n {classification_report(y_test,y_pred_knn)}\")\n",
    "print(\"-------------------\")\n",
    "print(f\"Confusion matrix:\\n {confusion_matrix(y_test, y_pred_knn)}\")\n",
    "print(\"-------------------\")\n",
    "print(f\"Accuracy score:\\n {accuracy_score(y_test, y_pred_knn)}\")\n",
    "print(f\"Tuned Model Parameters: {cv_knn.best_params_}\")\n"
   ]
  },
  {
   "cell_type": "markdown",
   "metadata": {},
   "source": [
    "- Number of neighbors to use (n_neighbors): 5\n",
    "- The distance metric to use for the tree: default metric is minkowski, but our model permor better with 'manhattan'. \n",
    "- ‘uniform’ : weights, means all points in each neighborhood are weighted equally"
   ]
  },
  {
   "cell_type": "code",
   "execution_count": 109,
   "metadata": {},
   "outputs": [
    {
     "data": {
      "image/png": "[encoded data removed]",
      "text/plain": [
       "<Figure size 720x288 with 2 Axes>"
      ]
     },
     "metadata": {},
     "output_type": "display_data"
    }
   ],
   "source": [
    "# Plot the confusion matrix\n",
    "con_mat_knn = confusion_matrix(y_test, y_pred_knn)\n",
    "sns.heatmap(con_mat_knn /np.sum(con_mat_knn), annot=True, \n",
    "            fmt='.2%', cmap='Blues');\n"
   ]
  },
  {
   "cell_type": "markdown",
   "metadata": {},
   "source": [
    "#### Let's compute and plot the training and testing accuracy scores for different numbers of neighbors."
   ]
  },
  {
   "cell_type": "code",
   "execution_count": 110,
   "metadata": {},
   "outputs": [],
   "source": [
    "# Setup arrays to store train and test accuracies\n",
    "neighbors = np.arange(1, 10)\n",
    "train_acc = np.empty(len(neighbors))\n",
    "test_acc = np.empty(len(neighbors))\n",
    "\n",
    "# Loop over of k\n",
    "for i, k in enumerate(neighbors):\n",
    "\n",
    "    knn = KNeighborsClassifier(n_neighbors = k,  metric = \"manhattan\")\n",
    "    knn.fit(X_train,y_train)\n",
    "    \n",
    "    train_acc[i] = knn.score(X_train, y_train)\n",
    "    test_acc[i] = knn.score(X_test, y_test)\n",
    "    "
   ]
  },
  {
   "cell_type": "code",
   "execution_count": 111,
   "metadata": {
    "scrolled": false
   },
   "outputs": [
    {
     "data": {
      "image/png": "[encoded data removed]",
      "text/plain": [
       "<Figure size 720x288 with 1 Axes>"
      ]
     },
     "metadata": {},
     "output_type": "display_data"
    }
   ],
   "source": [
    "# Plotting testing and training accuracy\n",
    "plt.title('The accuracy of k-neighbors')\n",
    "plt.plot(neighbors, test_acc, label = 'Testing Accuracy')\n",
    "plt.plot(neighbors, train_acc, label = 'Training Accuracy')\n",
    "plt.legend()\n",
    "plt.xlabel('Number of neighbors')\n",
    "plt.ylabel('Accuracy')\n",
    "plt.show()\n"
   ]
  },
  {
   "cell_type": "markdown",
   "metadata": {},
   "source": [
    "After iterate through in the 1 to 10 range, the answer is the same. The best number of k_neighbor is 5. On that point, we have optimal test and train accuracy. "
   ]
  },
  {
   "cell_type": "markdown",
   "metadata": {},
   "source": [
    "## Decision Tree Classifier"
   ]
  },
  {
   "cell_type": "markdown",
   "metadata": {},
   "source": [
    "Decision trees are rule-based classifiers that take in features and follow a 'tree structure' of binary decisions to classify a data point. "
   ]
  },
  {
   "cell_type": "code",
   "execution_count": 112,
   "metadata": {
    "scrolled": false
   },
   "outputs": [
    {
     "name": "stdout",
     "output_type": "stream",
     "text": [
      "Decision Tree Classifier\n",
      "-------------------\n",
      "Classification report: \n",
      "               precision    recall  f1-score   support\n",
      "\n",
      "           0       0.92      0.89      0.91      7028\n",
      "           1       0.89      0.91      0.90      6273\n",
      "\n",
      "    accuracy                           0.90     13301\n",
      "   macro avg       0.90      0.90      0.90     13301\n",
      "weighted avg       0.90      0.90      0.90     13301\n",
      "\n",
      "-------------------\n",
      "Confusion matrix:\n",
      " [[6288  740]\n",
      " [ 539 5734]]\n",
      "-------------------\n",
      "Accuracy score:\n",
      " 0.9038418164047816\n",
      "Tuned Model Parameters: {'tr__criterion': 'entropy', 'tr__max_depth': 10, 'tr__min_samples_split': 20}\n"
     ]
    }
   ],
   "source": [
    "# Setup the pipeline\n",
    "steps_tr = [(\"scaler\", StandardScaler()),\n",
    "            (\"tr\", DecisionTreeClassifier())]\n",
    "\n",
    "pipeline_tr = Pipeline(steps_tr)\n",
    "\n",
    "# Specify the hyperparameter space\n",
    "parameters_tr = {\"tr__criterion\": [\"gini\",  \"entropy\"], \n",
    "                \"tr__min_samples_split\": [2, 10, 20], \n",
    "                \"tr__max_depth\": [None, 2, 5, 10]}\n",
    "\n",
    "# Instantiate the GridSearchCV object: cv\n",
    "cv_tr = GridSearchCV(pipeline_tr, parameters_tr, cv = 5)\n",
    "\n",
    "# Fit to the training set\n",
    "cv_tr.fit(X_train, y_train)\n",
    "\n",
    "# Predict the labels of the test set: y_pred\n",
    "y_pred_tr = cv_tr.predict(X_test)\n",
    "\n",
    "#probs_knn = knn.predict_proba(X_test)\n",
    "\n",
    "# Print metrics for Decision Tree Classifier\n",
    "print(f\"Decision Tree Classifier\")\n",
    "print(\"-------------------\")\n",
    "print(f\"Classification report: \\n {classification_report(y_test,y_pred_tr)}\")\n",
    "print(\"-------------------\")\n",
    "print(f\"Confusion matrix:\\n {confusion_matrix(y_test, y_pred_tr)}\")\n",
    "print(\"-------------------\")\n",
    "print(f\"Accuracy score:\\n {accuracy_score(y_test, y_pred_tr)}\")\n",
    "print(f\"Tuned Model Parameters: {cv_tr.best_params_}\")\n"
   ]
  },
  {
   "cell_type": "markdown",
   "metadata": {},
   "source": [
    "- The function to measure the quality of a split. Supported criteria are “gini” for the Gini impurity and “entropy” for the information gain. Model works better with not defaults \"entropy\" parameter.\n",
    "- The minimum number of samples required to split an internal node: 20 \n",
    "- The maximum depth of the tree: 10"
   ]
  },
  {
   "cell_type": "code",
   "execution_count": 113,
   "metadata": {},
   "outputs": [
    {
     "data": {
      "image/png": "[encoded data removed]",
      "text/plain": [
       "<Figure size 720x288 with 2 Axes>"
      ]
     },
     "metadata": {},
     "output_type": "display_data"
    }
   ],
   "source": [
    "# Plot the confusion matrix\n",
    "con_mat_tr = confusion_matrix(y_test, y_pred_tr)\n",
    "sns.heatmap(con_mat_tr /np.sum(con_mat_tr), annot=True, \n",
    "            fmt='.2%', cmap='Blues');\n"
   ]
  },
  {
   "cell_type": "markdown",
   "metadata": {},
   "source": [
    "## Random Forest Classifier"
   ]
  },
  {
   "cell_type": "markdown",
   "metadata": {},
   "source": [
    "Random Forest limits overfitting by creating random subsets of the features and building smaller trees using these subsets. Then, it joins the subtrees of subsamples of features, so it does not overfit the entire feature set the way \"deep\" Decisions Trees do."
   ]
  },
  {
   "cell_type": "code",
   "execution_count": 114,
   "metadata": {
    "scrolled": false
   },
   "outputs": [
    {
     "name": "stdout",
     "output_type": "stream",
     "text": [
      "Random Forest Classifier\n",
      "-------------------\n",
      "Classification report: \n",
      "               precision    recall  f1-score   support\n",
      "\n",
      "           0       0.93      0.88      0.91      7028\n",
      "           1       0.88      0.93      0.90      6273\n",
      "\n",
      "    accuracy                           0.90     13301\n",
      "   macro avg       0.90      0.91      0.90     13301\n",
      "weighted avg       0.91      0.90      0.90     13301\n",
      "\n",
      "-------------------\n",
      "Confusion matrix:\n",
      " [[6195  833]\n",
      " [ 438 5835]]\n",
      "-------------------\n",
      "Accuracy score:\n",
      " 0.9044432749417337\n",
      "[0.88910608 0.90210526 0.90172932 0.90541353 0.90052632]\n",
      "Tuned Model Parameters: {'rf__criterion': 'gini', 'rf__max_depth': 8, 'rf__max_features': 'auto', 'rf__n_estimators': 30}\n"
     ]
    }
   ],
   "source": [
    "# Setup the pipeline\n",
    "steps_rf = [(\"scaler\", StandardScaler()),\n",
    "            (\"rf\", RandomForestClassifier())]\n",
    "\n",
    "pipeline_rf = Pipeline(steps_rf)\n",
    "\n",
    "# Specify the hyperparameter space\n",
    "parameters_rf = {\"rf__n_estimators\" : [1, 30],\n",
    "                 \"rf__max_features\": ['auto', 'log2'], \n",
    "                 \"rf__max_depth\": [4, 8], \n",
    "                 \"rf__criterion\": [\"gini\", \"entropy\"]}\n",
    "\n",
    "# Instantiate the GridSearchCV object: cv\n",
    "cv_rf = GridSearchCV(pipeline_rf, parameters_rf, cv = 5)\n",
    "\n",
    "# Fit to the training set\n",
    "cv_rf.fit(X_train, y_train)\n",
    "\n",
    "# Predict the labels of the test set: y_pred\n",
    "y_pred_rf = cv_rf.predict(X_test)\n",
    "\n",
    "#probs_knn = knn.predict_proba(X_test)\n",
    "\n",
    "# Print metrics for Random Forest Classifier\n",
    "print(f\"Random Forest Classifier\")\n",
    "print(\"-------------------\")\n",
    "print(f\"Classification report: \\n {classification_report(y_test,y_pred_rf)}\")\n",
    "print(\"-------------------\")\n",
    "print(f\"Confusion matrix:\\n {confusion_matrix(y_test, y_pred_rf)}\")\n",
    "print(\"-------------------\")\n",
    "print(f\"Accuracy score:\\n {accuracy_score(y_test, y_pred_rf)}\")\n",
    "print(cross_val_score(cv_rf, X, y, cv = 5))\n",
    "print(f\"Tuned Model Parameters: {cv_rf.best_params_}\")\n"
   ]
  },
  {
   "cell_type": "markdown",
   "metadata": {},
   "source": [
    "- The number of trees in the forest: 30 (n_estimators)\n",
    "- Unlike Decision Tree, the Random Forest model takes \"criterion\": \"gini\".\n",
    "- The maximum depth of the tree: 8\n",
    "- The number of features to consider when looking for the best split: 'auto'"
   ]
  },
  {
   "cell_type": "code",
   "execution_count": 115,
   "metadata": {},
   "outputs": [
    {
     "data": {
      "image/png": "[encoded data removed]",
      "text/plain": [
       "<Figure size 720x288 with 2 Axes>"
      ]
     },
     "metadata": {},
     "output_type": "display_data"
    }
   ],
   "source": [
    "# Plot the confusion matrix\n",
    "con_mat_rf = confusion_matrix(y_test, y_pred_rf)\n",
    "sns.heatmap(con_mat_rf /np.sum(con_mat_rf), annot=True, \n",
    "            fmt='.2%', cmap='Blues');\n"
   ]
  },
  {
   "cell_type": "markdown",
   "metadata": {},
   "source": [
    "Random Forest model shows the hights Recall score - 93%. Almost the same F1 score as the Decision tree model - 90% and pretty good accuracy score - 90%."
   ]
  },
  {
   "cell_type": "code",
   "execution_count": 116,
   "metadata": {},
   "outputs": [],
   "source": [
    "# Accumulate all metrics in one df\n",
    "cls_metrics_dict = {\"logreg\": {\"accuracy\" :accuracy_score(y_test, y_pred_logreg),\n",
    "                               \"precision\":precision_score(y_test, y_pred_logreg),\n",
    "                               \"recall\" : recall_score(y_test, y_pred_logreg),\n",
    "                                \"f1\" : f1_score(y_test, y_pred_logreg, average='macro')},\n",
    "                    \n",
    "                    \"knn\": {\"accuracy\" : accuracy_score(y_test, y_pred_knn),\n",
    "                           \"precision\": precision_score(y_test, y_pred_knn),\n",
    "                           \"recall\" : recall_score(y_test, y_pred_knn),\n",
    "                           \"f1\" : f1_score(y_test, y_pred_knn, average='macro')},\n",
    "                    \n",
    "                    \"cls_tree\": {\"accuracy\" : accuracy_score(y_test, y_pred_tr),\n",
    "                                \"precision\": precision_score(y_test, y_pred_tr),\n",
    "                                \"recall\" : recall_score(y_test, y_pred_tr),\n",
    "                                \"f1\" : f1_score(y_test, y_pred_tr, average='macro')},\n",
    "                    \n",
    "                     \"random_forest\" : {\"accuracy\" : accuracy_score(y_test, y_pred_rf),\n",
    "                                      \"precision\": precision_score(y_test, y_pred_rf),\n",
    "                                      \"recall\" : recall_score(y_test, y_pred_rf),\n",
    "                                       \"f1\" : f1_score(y_test, y_pred_rf, average='macro')}}\n"
   ]
  },
  {
   "cell_type": "code",
   "execution_count": 117,
   "metadata": {
    "scrolled": false
   },
   "outputs": [
    {
     "data": {
      "text/html": [
       "<div>\n",
       "<style scoped>\n",
       "    .dataframe tbody tr th:only-of-type {\n",
       "        vertical-align: middle;\n",
       "    }\n",
       "\n",
       "    .dataframe tbody tr th {\n",
       "        vertical-align: top;\n",
       "    }\n",
       "\n",
       "    .dataframe thead th {\n",
       "        text-align: right;\n",
       "    }\n",
       "</style>\n",
       "<table border=\"1\" class=\"dataframe\">\n",
       "  <thead>\n",
       "    <tr style=\"text-align: right;\">\n",
       "      <th></th>\n",
       "      <th>logreg</th>\n",
       "      <th>knn</th>\n",
       "      <th>cls_tree</th>\n",
       "      <th>random_forest</th>\n",
       "    </tr>\n",
       "  </thead>\n",
       "  <tbody>\n",
       "    <tr>\n",
       "      <th>accuracy</th>\n",
       "      <td>0.874145</td>\n",
       "      <td>0.889708</td>\n",
       "      <td>0.903842</td>\n",
       "      <td>0.904443</td>\n",
       "    </tr>\n",
       "    <tr>\n",
       "      <th>precision</th>\n",
       "      <td>0.901800</td>\n",
       "      <td>0.873601</td>\n",
       "      <td>0.885697</td>\n",
       "      <td>0.875075</td>\n",
       "    </tr>\n",
       "    <tr>\n",
       "      <th>recall</th>\n",
       "      <td>0.822732</td>\n",
       "      <td>0.895744</td>\n",
       "      <td>0.914076</td>\n",
       "      <td>0.930177</td>\n",
       "    </tr>\n",
       "    <tr>\n",
       "      <th>f1</th>\n",
       "      <td>0.872922</td>\n",
       "      <td>0.889486</td>\n",
       "      <td>0.903675</td>\n",
       "      <td>0.904373</td>\n",
       "    </tr>\n",
       "  </tbody>\n",
       "</table>\n",
       "</div>"
      ],
      "text/plain": [
       "             logreg       knn  cls_tree  random_forest\n",
       "accuracy   0.874145  0.889708  0.903842       0.904443\n",
       "precision  0.901800  0.873601  0.885697       0.875075\n",
       "recall     0.822732  0.895744  0.914076       0.930177\n",
       "f1         0.872922  0.889486  0.903675       0.904373"
      ]
     },
     "execution_count": 117,
     "metadata": {},
     "output_type": "execute_result"
    }
   ],
   "source": [
    "cls_metrics = pd.DataFrame(cls_metrics_dict)\n",
    "cls_metrics"
   ]
  },
  {
   "cell_type": "markdown",
   "metadata": {},
   "source": [
    "#### Conclusion\n",
    "\n",
    "In the end, we know that the best offer is offer number 7: promoted discount of 2 dollars if the customer spends 10 dollars. The offer was valid for ten days and sent through all channels. And the average person who is most influenced by that offer: male, 40-60 years old, with 50 - 70k income, and he has been a member since the 2017 year.\n",
    "\n",
    "#### Summary\n",
    "\n",
    "- Cleaning the df to make sure it is no noise in the data.\n",
    "- Combine all tree data sets into one. It was the tricky part; thanks to the Udacity mentors for helping here.\n",
    "- Implemented EDAs on the datasets to determine how the different demographics of customers reacted to the various offer types. Finding the best offer in the data set.\n",
    "- Preprocessed the data to ensure it was ready for the predictive algorithms.\n",
    "- I used several models to predict which proposal would be successful."
   ]
  },
  {
   "cell_type": "markdown",
   "metadata": {},
   "source": [
    "References:\n",
    "\n",
    "[https://towardsdatascience.com/dealing-with-list-values-in-pandas-dataframes-a177e534f173](https://towardsdatascience.com/dealing-with-list-values-in-pandas-dataframes-a177e534f173)\n",
    "\n",
    "[https://www.geeksforgeeks.org/python-program-to-swap-keys-and-values-in-dictionary/](https://www.geeksforgeeks.org/python-program-to-swap-keys-and-values-in-dictionary/)\n",
    "\n",
    "[https://medium.com/@dtuk81/confusion-matrix-visualization-fc31e3f30fea](https://medium.com/@dtuk81/confusion-matrix-visualization-fc31e3f30fea)\n",
    "\n",
    "[https://scikit-learn.org/stable/modules/generated/sklearn.metrics.f1_score.html](https://scikit-learn.org/stable/modules/generated/sklearn.metrics.f1_score.html)\n",
    "\n",
    "[https://machinelearningmastery.com/precision-recall-and-f-measure-for-imbalanced-classification/](https://machinelearningmastery.com/precision-recall-and-f-measure-for-imbalanced-classification/)\n",
    "\n",
    "https://towardsdatascience.com/accuracy-precision-recall-or-f1-331fb37c5cb9\n",
    "\n",
    "[https://towardsdatascience.com/normalization-vs-standardization-explained-209e84d0f81e](https://towardsdatascience.com/normalization-vs-standardization-explained-209e84d0f81e)\n",
    "\n",
    "[https://medium.com/swlh/quick-guide-to-labelling-data-for-common-seaborn-plots-736e10bf14a9](https://medium.com/swlh/quick-guide-to-labelling-data-for-common-seaborn-plots-736e10bf14a9)\n",
    "\n",
    "[https://github.com/Surveshchauhan/StarbucksKNowledge](https://github.com/Surveshchauhan/StarbucksKNowledge)\n",
    "\n",
    "[https://pandas.pydata.org/docs/reference/api/pandas.DataFrame.loc.html](https://pandas.pydata.org/docs/reference/api/pandas.DataFrame.loc.html)\n",
    "\n",
    "[https://pandas.pydata.org/docs/reference/api/pandas.concat.html](https://pandas.pydata.org/docs/reference/api/pandas.concat.html)\n",
    "\n",
    "[https://scikit-learn.org/stable/modules/generated/sklearn.ensemble.RandomForestClassifier.html](https://scikit-learn.org/stable/modules/generated/sklearn.ensemble.RandomForestClassifier.html)\n",
    "\n",
    "[https://www.stat.berkeley.edu/~breiman/RandomForests/cc_home.htm](https://www.stat.berkeley.edu/~breiman/RandomForests/cc_home.htm)\n",
    "\n",
    "[https://scikit-learn.org/stable/modules/tree.html](https://scikit-learn.org/stable/modules/tree.html)"
   ]
  },
  {
   "cell_type": "code",
   "execution_count": null,
   "metadata": {},
   "outputs": [],
   "source": []
  }
 ],
 "metadata": {
  "kernelspec": {
   "display_name": "Python 3",
   "language": "python",
   "name": "python3"
  },
  "language_info": {
   "codemirror_mode": {
    "name": "ipython",
    "version": 3
   },
   "file_extension": ".py",
   "mimetype": "text/x-python",
   "name": "python",
   "nbconvert_exporter": "python",
   "pygments_lexer": "ipython3",
   "version": "3.8.8"
  }
 },
 "nbformat": 4,
 "nbformat_minor": 2
}
